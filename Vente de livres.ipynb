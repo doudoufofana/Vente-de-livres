{
 "cells": [
  {
   "cell_type": "markdown",
   "id": "44383835",
   "metadata": {},
   "source": [
    "# Projet : Vente dans une librairie"
   ]
  },
  {
   "cell_type": "markdown",
   "id": "1790eed0",
   "metadata": {},
   "source": [
    "## 1.Importation des packadges"
   ]
  },
  {
   "cell_type": "code",
   "execution_count": 1,
   "id": "aa579820",
   "metadata": {},
   "outputs": [],
   "source": [
    "import pandas as pd\n",
    "import numpy as np\n",
    "import matplotlib.pyplot as plt\n",
    "import seaborn as sns\n",
    "import warnings\n",
    "warnings.simplefilter(\"ignore\")\n",
    "from tabulate import tabulate"
   ]
  },
  {
   "cell_type": "code",
   "execution_count": 2,
   "id": "88d09c0e",
   "metadata": {},
   "outputs": [],
   "source": [
    "#Importation des données\n",
    "df_customers = pd.read_csv(\"customers.csv\")\n",
    "df_products = pd.read_csv(\"products.csv\")\n",
    "df_transactions = pd.read_csv(\"transactions.csv\")"
   ]
  },
  {
   "cell_type": "markdown",
   "id": "032bac05",
   "metadata": {},
   "source": [
    "### 1.1 Aperçu sur les dataframes"
   ]
  },
  {
   "cell_type": "code",
   "execution_count": 3,
   "id": "10fa8b77",
   "metadata": {},
   "outputs": [],
   "source": [
    "#Créer une fonction pour vérifier l'unicité de la clé primaire\n",
    "def primary_key(data,key):\n",
    "    nbre_ligne = len(data)\n",
    "    unique_id = len(data.groupby(key).size())\n",
    "    if nbre_ligne == unique_id:\n",
    "        print(f\"{key} est une clé primaire\")\n",
    "    else:\n",
    "        print(f\"{key} n'est pas une clé primaire\")     "
   ]
  },
  {
   "cell_type": "markdown",
   "id": "1ca9a4f3",
   "metadata": {},
   "source": [
    "**df_customers**"
   ]
  },
  {
   "cell_type": "code",
   "execution_count": 4,
   "id": "03074ba5",
   "metadata": {},
   "outputs": [
    {
     "data": {
      "text/html": [
       "<div>\n",
       "<style scoped>\n",
       "    .dataframe tbody tr th:only-of-type {\n",
       "        vertical-align: middle;\n",
       "    }\n",
       "\n",
       "    .dataframe tbody tr th {\n",
       "        vertical-align: top;\n",
       "    }\n",
       "\n",
       "    .dataframe thead th {\n",
       "        text-align: right;\n",
       "    }\n",
       "</style>\n",
       "<table border=\"1\" class=\"dataframe\">\n",
       "  <thead>\n",
       "    <tr style=\"text-align: right;\">\n",
       "      <th></th>\n",
       "      <th>client_id</th>\n",
       "      <th>sex</th>\n",
       "      <th>birth</th>\n",
       "    </tr>\n",
       "  </thead>\n",
       "  <tbody>\n",
       "    <tr>\n",
       "      <th>0</th>\n",
       "      <td>c_4410</td>\n",
       "      <td>f</td>\n",
       "      <td>1967</td>\n",
       "    </tr>\n",
       "    <tr>\n",
       "      <th>1</th>\n",
       "      <td>c_7839</td>\n",
       "      <td>f</td>\n",
       "      <td>1975</td>\n",
       "    </tr>\n",
       "    <tr>\n",
       "      <th>2</th>\n",
       "      <td>c_1699</td>\n",
       "      <td>f</td>\n",
       "      <td>1984</td>\n",
       "    </tr>\n",
       "    <tr>\n",
       "      <th>3</th>\n",
       "      <td>c_5961</td>\n",
       "      <td>f</td>\n",
       "      <td>1962</td>\n",
       "    </tr>\n",
       "    <tr>\n",
       "      <th>4</th>\n",
       "      <td>c_5320</td>\n",
       "      <td>m</td>\n",
       "      <td>1943</td>\n",
       "    </tr>\n",
       "  </tbody>\n",
       "</table>\n",
       "</div>"
      ],
      "text/plain": [
       "  client_id sex  birth\n",
       "0    c_4410   f   1967\n",
       "1    c_7839   f   1975\n",
       "2    c_1699   f   1984\n",
       "3    c_5961   f   1962\n",
       "4    c_5320   m   1943"
      ]
     },
     "execution_count": 4,
     "metadata": {},
     "output_type": "execute_result"
    }
   ],
   "source": [
    "df_customers.head()"
   ]
  },
  {
   "cell_type": "code",
   "execution_count": 5,
   "id": "7e09dba3",
   "metadata": {},
   "outputs": [
    {
     "name": "stdout",
     "output_type": "stream",
     "text": [
      "client_id est une clé primaire\n"
     ]
    }
   ],
   "source": [
    "#Vérifier l'unicité de la clé primaire de la table client\n",
    "primary_key(df_customers,\"client_id\")"
   ]
  },
  {
   "cell_type": "code",
   "execution_count": 6,
   "id": "fbb2d051",
   "metadata": {},
   "outputs": [
    {
     "name": "stdout",
     "output_type": "stream",
     "text": [
      "<class 'pandas.core.frame.DataFrame'>\n",
      "RangeIndex: 8623 entries, 0 to 8622\n",
      "Data columns (total 3 columns):\n",
      " #   Column     Non-Null Count  Dtype \n",
      "---  ------     --------------  ----- \n",
      " 0   client_id  8623 non-null   object\n",
      " 1   sex        8623 non-null   object\n",
      " 2   birth      8623 non-null   int64 \n",
      "dtypes: int64(1), object(2)\n",
      "memory usage: 202.2+ KB\n"
     ]
    }
   ],
   "source": [
    "#Informations sur la table client\n",
    "df_customers.info()"
   ]
  },
  {
   "cell_type": "code",
   "execution_count": 7,
   "id": "72104013",
   "metadata": {},
   "outputs": [
    {
     "data": {
      "text/plain": [
       "f    4491\n",
       "m    4132\n",
       "Name: sex, dtype: int64"
      ]
     },
     "execution_count": 7,
     "metadata": {},
     "output_type": "execute_result"
    }
   ],
   "source": [
    "#Les modalités de la variable sex\n",
    "df_customers[\"sex\"].value_counts()"
   ]
  },
  {
   "cell_type": "code",
   "execution_count": 8,
   "id": "8fa49087",
   "metadata": {},
   "outputs": [
    {
     "data": {
      "text/plain": [
       "client_id    0\n",
       "sex          0\n",
       "birth        0\n",
       "dtype: int64"
      ]
     },
     "execution_count": 8,
     "metadata": {},
     "output_type": "execute_result"
    }
   ],
   "source": [
    "#Vérifier s'il y a des valeurs manquantes\n",
    "df_customers.isnull().sum()"
   ]
  },
  {
   "cell_type": "code",
   "execution_count": 9,
   "id": "b40460c1",
   "metadata": {},
   "outputs": [
    {
     "data": {
      "text/plain": [
       "0"
      ]
     },
     "execution_count": 9,
     "metadata": {},
     "output_type": "execute_result"
    }
   ],
   "source": [
    "#Vérifier s'il y a des doublons\n",
    "df_customers.duplicated().sum()"
   ]
  },
  {
   "cell_type": "markdown",
   "id": "078d86bf",
   "metadata": {},
   "source": [
    "**df_products**"
   ]
  },
  {
   "cell_type": "code",
   "execution_count": 10,
   "id": "23d10bd6",
   "metadata": {},
   "outputs": [
    {
     "data": {
      "text/html": [
       "<div>\n",
       "<style scoped>\n",
       "    .dataframe tbody tr th:only-of-type {\n",
       "        vertical-align: middle;\n",
       "    }\n",
       "\n",
       "    .dataframe tbody tr th {\n",
       "        vertical-align: top;\n",
       "    }\n",
       "\n",
       "    .dataframe thead th {\n",
       "        text-align: right;\n",
       "    }\n",
       "</style>\n",
       "<table border=\"1\" class=\"dataframe\">\n",
       "  <thead>\n",
       "    <tr style=\"text-align: right;\">\n",
       "      <th></th>\n",
       "      <th>id_prod</th>\n",
       "      <th>price</th>\n",
       "      <th>categ</th>\n",
       "    </tr>\n",
       "  </thead>\n",
       "  <tbody>\n",
       "    <tr>\n",
       "      <th>0</th>\n",
       "      <td>0_1421</td>\n",
       "      <td>19.99</td>\n",
       "      <td>0</td>\n",
       "    </tr>\n",
       "    <tr>\n",
       "      <th>1</th>\n",
       "      <td>0_1368</td>\n",
       "      <td>5.13</td>\n",
       "      <td>0</td>\n",
       "    </tr>\n",
       "    <tr>\n",
       "      <th>2</th>\n",
       "      <td>0_731</td>\n",
       "      <td>17.99</td>\n",
       "      <td>0</td>\n",
       "    </tr>\n",
       "    <tr>\n",
       "      <th>3</th>\n",
       "      <td>1_587</td>\n",
       "      <td>4.99</td>\n",
       "      <td>1</td>\n",
       "    </tr>\n",
       "    <tr>\n",
       "      <th>4</th>\n",
       "      <td>0_1507</td>\n",
       "      <td>3.99</td>\n",
       "      <td>0</td>\n",
       "    </tr>\n",
       "  </tbody>\n",
       "</table>\n",
       "</div>"
      ],
      "text/plain": [
       "  id_prod  price  categ\n",
       "0  0_1421  19.99      0\n",
       "1  0_1368   5.13      0\n",
       "2   0_731  17.99      0\n",
       "3   1_587   4.99      1\n",
       "4  0_1507   3.99      0"
      ]
     },
     "execution_count": 10,
     "metadata": {},
     "output_type": "execute_result"
    }
   ],
   "source": [
    "df_products.head()"
   ]
  },
  {
   "cell_type": "code",
   "execution_count": 11,
   "id": "cc702d82",
   "metadata": {},
   "outputs": [
    {
     "name": "stdout",
     "output_type": "stream",
     "text": [
      "id_prod est une clé primaire\n"
     ]
    }
   ],
   "source": [
    "#Vérifier l'unicité de la clé primaire de la table producteur\n",
    "primary_key(df_products,\"id_prod\")"
   ]
  },
  {
   "cell_type": "code",
   "execution_count": 12,
   "id": "e4359a04",
   "metadata": {},
   "outputs": [
    {
     "name": "stdout",
     "output_type": "stream",
     "text": [
      "<class 'pandas.core.frame.DataFrame'>\n",
      "RangeIndex: 3287 entries, 0 to 3286\n",
      "Data columns (total 3 columns):\n",
      " #   Column   Non-Null Count  Dtype  \n",
      "---  ------   --------------  -----  \n",
      " 0   id_prod  3287 non-null   object \n",
      " 1   price    3287 non-null   float64\n",
      " 2   categ    3287 non-null   int64  \n",
      "dtypes: float64(1), int64(1), object(1)\n",
      "memory usage: 77.2+ KB\n"
     ]
    }
   ],
   "source": [
    "#Informations sur la table producteur\n",
    "df_products.info()"
   ]
  },
  {
   "cell_type": "code",
   "execution_count": 13,
   "id": "62cc35c0",
   "metadata": {},
   "outputs": [
    {
     "data": {
      "text/plain": [
       "0    2309\n",
       "1     739\n",
       "2     239\n",
       "Name: categ, dtype: int64"
      ]
     },
     "execution_count": 13,
     "metadata": {},
     "output_type": "execute_result"
    }
   ],
   "source": [
    "#Les modalités de la variables categ\n",
    "df_products[\"categ\"].value_counts()"
   ]
  },
  {
   "cell_type": "code",
   "execution_count": 14,
   "id": "797f4243",
   "metadata": {},
   "outputs": [
    {
     "data": {
      "text/plain": [
       "id_prod    0\n",
       "price      0\n",
       "categ      0\n",
       "dtype: int64"
      ]
     },
     "execution_count": 14,
     "metadata": {},
     "output_type": "execute_result"
    }
   ],
   "source": [
    "#Vérifier s'il y a des valeurs manquantes\n",
    "df_products.isnull().sum()"
   ]
  },
  {
   "cell_type": "code",
   "execution_count": 15,
   "id": "fc9a4263",
   "metadata": {},
   "outputs": [
    {
     "data": {
      "text/plain": [
       "0"
      ]
     },
     "execution_count": 15,
     "metadata": {},
     "output_type": "execute_result"
    }
   ],
   "source": [
    "#Vérifier s'il y a des doublons\n",
    "df_products.duplicated().sum()"
   ]
  },
  {
   "cell_type": "markdown",
   "id": "006ae8d9",
   "metadata": {},
   "source": [
    "**df_transactions**"
   ]
  },
  {
   "cell_type": "code",
   "execution_count": 16,
   "id": "a5dc12a6",
   "metadata": {},
   "outputs": [
    {
     "data": {
      "text/html": [
       "<div>\n",
       "<style scoped>\n",
       "    .dataframe tbody tr th:only-of-type {\n",
       "        vertical-align: middle;\n",
       "    }\n",
       "\n",
       "    .dataframe tbody tr th {\n",
       "        vertical-align: top;\n",
       "    }\n",
       "\n",
       "    .dataframe thead th {\n",
       "        text-align: right;\n",
       "    }\n",
       "</style>\n",
       "<table border=\"1\" class=\"dataframe\">\n",
       "  <thead>\n",
       "    <tr style=\"text-align: right;\">\n",
       "      <th></th>\n",
       "      <th>id_prod</th>\n",
       "      <th>date</th>\n",
       "      <th>session_id</th>\n",
       "      <th>client_id</th>\n",
       "    </tr>\n",
       "  </thead>\n",
       "  <tbody>\n",
       "    <tr>\n",
       "      <th>0</th>\n",
       "      <td>0_1518</td>\n",
       "      <td>2022-05-20 13:21:29.043970</td>\n",
       "      <td>s_211425</td>\n",
       "      <td>c_103</td>\n",
       "    </tr>\n",
       "    <tr>\n",
       "      <th>1</th>\n",
       "      <td>1_251</td>\n",
       "      <td>2022-02-02 07:55:19.149409</td>\n",
       "      <td>s_158752</td>\n",
       "      <td>c_8534</td>\n",
       "    </tr>\n",
       "    <tr>\n",
       "      <th>2</th>\n",
       "      <td>0_1277</td>\n",
       "      <td>2022-06-18 15:44:33.155329</td>\n",
       "      <td>s_225667</td>\n",
       "      <td>c_6714</td>\n",
       "    </tr>\n",
       "    <tr>\n",
       "      <th>3</th>\n",
       "      <td>2_209</td>\n",
       "      <td>2021-06-24 04:19:29.835891</td>\n",
       "      <td>s_52962</td>\n",
       "      <td>c_6941</td>\n",
       "    </tr>\n",
       "    <tr>\n",
       "      <th>4</th>\n",
       "      <td>0_1509</td>\n",
       "      <td>2023-01-11 08:22:08.194479</td>\n",
       "      <td>s_325227</td>\n",
       "      <td>c_4232</td>\n",
       "    </tr>\n",
       "  </tbody>\n",
       "</table>\n",
       "</div>"
      ],
      "text/plain": [
       "  id_prod                        date session_id client_id\n",
       "0  0_1518  2022-05-20 13:21:29.043970   s_211425     c_103\n",
       "1   1_251  2022-02-02 07:55:19.149409   s_158752    c_8534\n",
       "2  0_1277  2022-06-18 15:44:33.155329   s_225667    c_6714\n",
       "3   2_209  2021-06-24 04:19:29.835891    s_52962    c_6941\n",
       "4  0_1509  2023-01-11 08:22:08.194479   s_325227    c_4232"
      ]
     },
     "execution_count": 16,
     "metadata": {},
     "output_type": "execute_result"
    }
   ],
   "source": [
    "df_transactions.head()"
   ]
  },
  {
   "cell_type": "code",
   "execution_count": 17,
   "id": "1813134e",
   "metadata": {},
   "outputs": [
    {
     "name": "stdout",
     "output_type": "stream",
     "text": [
      "id_prod n'est pas une clé primaire\n",
      "client_id n'est pas une clé primaire\n",
      "session_id n'est pas une clé primaire\n",
      "['id_prod', 'date'] n'est pas une clé primaire\n",
      "['client_id', 'date'] n'est pas une clé primaire\n"
     ]
    }
   ],
   "source": [
    "#Vérification l'unicité de la clé primaire dans cette table \n",
    "primary_key(df_transactions,\"id_prod\")\n",
    "primary_key(df_transactions,\"client_id\")\n",
    "primary_key(df_transactions,\"session_id\")\n",
    "primary_key(df_transactions,[\"id_prod\",\"date\"])\n",
    "primary_key(df_transactions,[\"client_id\",\"date\"])"
   ]
  },
  {
   "cell_type": "code",
   "execution_count": 18,
   "id": "ab8966dc",
   "metadata": {},
   "outputs": [
    {
     "name": "stdout",
     "output_type": "stream",
     "text": [
      "<class 'pandas.core.frame.DataFrame'>\n",
      "RangeIndex: 679532 entries, 0 to 679531\n",
      "Data columns (total 4 columns):\n",
      " #   Column      Non-Null Count   Dtype \n",
      "---  ------      --------------   ----- \n",
      " 0   id_prod     679532 non-null  object\n",
      " 1   date        679532 non-null  object\n",
      " 2   session_id  679532 non-null  object\n",
      " 3   client_id   679532 non-null  object\n",
      "dtypes: object(4)\n",
      "memory usage: 20.7+ MB\n"
     ]
    }
   ],
   "source": [
    "#Informations sur la table transactions\n",
    "df_transactions.info()"
   ]
  },
  {
   "cell_type": "code",
   "execution_count": 19,
   "id": "cabe15ab",
   "metadata": {},
   "outputs": [
    {
     "data": {
      "text/plain": [
       "id_prod       0\n",
       "date          0\n",
       "session_id    0\n",
       "client_id     0\n",
       "dtype: int64"
      ]
     },
     "execution_count": 19,
     "metadata": {},
     "output_type": "execute_result"
    }
   ],
   "source": [
    "#Vérifier s'il des valeurs manquantes\n",
    "df_transactions.isnull().sum()"
   ]
  },
  {
   "cell_type": "code",
   "execution_count": 20,
   "id": "9c2a8db7",
   "metadata": {},
   "outputs": [
    {
     "data": {
      "text/plain": [
       "126"
      ]
     },
     "execution_count": 20,
     "metadata": {},
     "output_type": "execute_result"
    }
   ],
   "source": [
    "#Vérifier s'il y a des doublons\n",
    "df_transactions.duplicated().sum()"
   ]
  },
  {
   "cell_type": "markdown",
   "id": "d1c43b3e",
   "metadata": {},
   "source": [
    "### 1.2 Nettoyage des tables"
   ]
  },
  {
   "cell_type": "markdown",
   "id": "2ab0ab84",
   "metadata": {},
   "source": [
    "**df_products**"
   ]
  },
  {
   "cell_type": "code",
   "execution_count": 21,
   "id": "bf360a4b",
   "metadata": {},
   "outputs": [
    {
     "data": {
      "text/html": [
       "<div>\n",
       "<style scoped>\n",
       "    .dataframe tbody tr th:only-of-type {\n",
       "        vertical-align: middle;\n",
       "    }\n",
       "\n",
       "    .dataframe tbody tr th {\n",
       "        vertical-align: top;\n",
       "    }\n",
       "\n",
       "    .dataframe thead th {\n",
       "        text-align: right;\n",
       "    }\n",
       "</style>\n",
       "<table border=\"1\" class=\"dataframe\">\n",
       "  <thead>\n",
       "    <tr style=\"text-align: right;\">\n",
       "      <th></th>\n",
       "      <th>price</th>\n",
       "      <th>categ</th>\n",
       "    </tr>\n",
       "  </thead>\n",
       "  <tbody>\n",
       "    <tr>\n",
       "      <th>count</th>\n",
       "      <td>3287.000000</td>\n",
       "      <td>3287.000000</td>\n",
       "    </tr>\n",
       "    <tr>\n",
       "      <th>mean</th>\n",
       "      <td>21.856641</td>\n",
       "      <td>0.370246</td>\n",
       "    </tr>\n",
       "    <tr>\n",
       "      <th>std</th>\n",
       "      <td>29.847908</td>\n",
       "      <td>0.615387</td>\n",
       "    </tr>\n",
       "    <tr>\n",
       "      <th>min</th>\n",
       "      <td>-1.000000</td>\n",
       "      <td>0.000000</td>\n",
       "    </tr>\n",
       "    <tr>\n",
       "      <th>25%</th>\n",
       "      <td>6.990000</td>\n",
       "      <td>0.000000</td>\n",
       "    </tr>\n",
       "    <tr>\n",
       "      <th>50%</th>\n",
       "      <td>13.060000</td>\n",
       "      <td>0.000000</td>\n",
       "    </tr>\n",
       "    <tr>\n",
       "      <th>75%</th>\n",
       "      <td>22.990000</td>\n",
       "      <td>1.000000</td>\n",
       "    </tr>\n",
       "    <tr>\n",
       "      <th>max</th>\n",
       "      <td>300.000000</td>\n",
       "      <td>2.000000</td>\n",
       "    </tr>\n",
       "  </tbody>\n",
       "</table>\n",
       "</div>"
      ],
      "text/plain": [
       "             price        categ\n",
       "count  3287.000000  3287.000000\n",
       "mean     21.856641     0.370246\n",
       "std      29.847908     0.615387\n",
       "min      -1.000000     0.000000\n",
       "25%       6.990000     0.000000\n",
       "50%      13.060000     0.000000\n",
       "75%      22.990000     1.000000\n",
       "max     300.000000     2.000000"
      ]
     },
     "execution_count": 21,
     "metadata": {},
     "output_type": "execute_result"
    }
   ],
   "source": [
    "df_products.describe()"
   ]
  },
  {
   "cell_type": "code",
   "execution_count": 22,
   "id": "1296bfa5",
   "metadata": {},
   "outputs": [
    {
     "data": {
      "text/html": [
       "<div>\n",
       "<style scoped>\n",
       "    .dataframe tbody tr th:only-of-type {\n",
       "        vertical-align: middle;\n",
       "    }\n",
       "\n",
       "    .dataframe tbody tr th {\n",
       "        vertical-align: top;\n",
       "    }\n",
       "\n",
       "    .dataframe thead th {\n",
       "        text-align: right;\n",
       "    }\n",
       "</style>\n",
       "<table border=\"1\" class=\"dataframe\">\n",
       "  <thead>\n",
       "    <tr style=\"text-align: right;\">\n",
       "      <th></th>\n",
       "      <th>id_prod</th>\n",
       "      <th>price</th>\n",
       "      <th>categ</th>\n",
       "    </tr>\n",
       "  </thead>\n",
       "  <tbody>\n",
       "    <tr>\n",
       "      <th>731</th>\n",
       "      <td>T_0</td>\n",
       "      <td>-1.0</td>\n",
       "      <td>0</td>\n",
       "    </tr>\n",
       "  </tbody>\n",
       "</table>\n",
       "</div>"
      ],
      "text/plain": [
       "    id_prod  price categ\n",
       "731     T_0   -1.0     0"
      ]
     },
     "execution_count": 22,
     "metadata": {},
     "output_type": "execute_result"
    }
   ],
   "source": [
    "#Modifier le type de la variable categ en \"object\"\n",
    "df_products[\"categ\"] = df_products[\"categ\"].astype(\"object\")\n",
    "#Identifier les produits avec des prix négatifs\n",
    "df_products[df_products[\"price\"]<0]"
   ]
  },
  {
   "cell_type": "raw",
   "id": "820aaa4c",
   "metadata": {},
   "source": [
    "On remarque ici que le produit dont le prix est négatif appartient à la catégorie 0. On va le remplacer par la moyenne des prix de la cette même catégorie"
   ]
  },
  {
   "cell_type": "code",
   "execution_count": 23,
   "id": "94016839",
   "metadata": {},
   "outputs": [
    {
     "data": {
      "text/plain": [
       "12.0"
      ]
     },
     "execution_count": 23,
     "metadata": {},
     "output_type": "execute_result"
    }
   ],
   "source": [
    "moyenne_categ0 = round(df_products.loc[df_products[\"categ\"]==0,\"price\"].mean(),0)\n",
    "moyenne_categ0"
   ]
  },
  {
   "cell_type": "code",
   "execution_count": 24,
   "id": "065c4928",
   "metadata": {},
   "outputs": [
    {
     "name": "stdout",
     "output_type": "stream",
     "text": [
      "<class 'pandas.core.frame.DataFrame'>\n",
      "RangeIndex: 3287 entries, 0 to 3286\n",
      "Data columns (total 3 columns):\n",
      " #   Column   Non-Null Count  Dtype  \n",
      "---  ------   --------------  -----  \n",
      " 0   id_prod  3287 non-null   object \n",
      " 1   price    3287 non-null   float64\n",
      " 2   categ    3287 non-null   object \n",
      "dtypes: float64(1), object(2)\n",
      "memory usage: 77.2+ KB\n"
     ]
    }
   ],
   "source": [
    "#Imputer la moyenne du prix des produits de catégorie 0 au produit avec un prix négatif\n",
    "df_products.loc[df_products[\"price\"]<0,\"price\"] = moyenne_categ0\n",
    "#Informations sur la table après ces changements\n",
    "df_products.info()"
   ]
  },
  {
   "cell_type": "markdown",
   "id": "27142b08",
   "metadata": {},
   "source": [
    "**df_transactions**"
   ]
  },
  {
   "cell_type": "code",
   "execution_count": 25,
   "id": "d9bdef5b",
   "metadata": {},
   "outputs": [
    {
     "data": {
      "text/html": [
       "<div>\n",
       "<style scoped>\n",
       "    .dataframe tbody tr th:only-of-type {\n",
       "        vertical-align: middle;\n",
       "    }\n",
       "\n",
       "    .dataframe tbody tr th {\n",
       "        vertical-align: top;\n",
       "    }\n",
       "\n",
       "    .dataframe thead th {\n",
       "        text-align: right;\n",
       "    }\n",
       "</style>\n",
       "<table border=\"1\" class=\"dataframe\">\n",
       "  <thead>\n",
       "    <tr style=\"text-align: right;\">\n",
       "      <th></th>\n",
       "      <th>id_prod</th>\n",
       "      <th>date</th>\n",
       "      <th>session_id</th>\n",
       "      <th>client_id</th>\n",
       "    </tr>\n",
       "  </thead>\n",
       "  <tbody>\n",
       "    <tr>\n",
       "      <th>count</th>\n",
       "      <td>679532</td>\n",
       "      <td>679532</td>\n",
       "      <td>679532</td>\n",
       "      <td>679532</td>\n",
       "    </tr>\n",
       "    <tr>\n",
       "      <th>unique</th>\n",
       "      <td>3267</td>\n",
       "      <td>679371</td>\n",
       "      <td>342316</td>\n",
       "      <td>8602</td>\n",
       "    </tr>\n",
       "    <tr>\n",
       "      <th>top</th>\n",
       "      <td>1_369</td>\n",
       "      <td>test_2021-03-01 02:30:02.237413</td>\n",
       "      <td>s_0</td>\n",
       "      <td>c_1609</td>\n",
       "    </tr>\n",
       "    <tr>\n",
       "      <th>freq</th>\n",
       "      <td>2252</td>\n",
       "      <td>13</td>\n",
       "      <td>200</td>\n",
       "      <td>25488</td>\n",
       "    </tr>\n",
       "  </tbody>\n",
       "</table>\n",
       "</div>"
      ],
      "text/plain": [
       "       id_prod                             date session_id client_id\n",
       "count   679532                           679532     679532    679532\n",
       "unique    3267                           679371     342316      8602\n",
       "top      1_369  test_2021-03-01 02:30:02.237413        s_0    c_1609\n",
       "freq      2252                               13        200     25488"
      ]
     },
     "execution_count": 25,
     "metadata": {},
     "output_type": "execute_result"
    }
   ],
   "source": [
    "df_transactions.describe()"
   ]
  },
  {
   "cell_type": "raw",
   "id": "f264df6d",
   "metadata": {},
   "source": [
    "On remarque sur la table transactions des dates précédées par un préfixe \"test\". Celà correspond peut être à une phase test. On va les identifier et les extraire de la table"
   ]
  },
  {
   "cell_type": "code",
   "execution_count": 26,
   "id": "a731798e",
   "metadata": {},
   "outputs": [
    {
     "data": {
      "text/html": [
       "<div>\n",
       "<style scoped>\n",
       "    .dataframe tbody tr th:only-of-type {\n",
       "        vertical-align: middle;\n",
       "    }\n",
       "\n",
       "    .dataframe tbody tr th {\n",
       "        vertical-align: top;\n",
       "    }\n",
       "\n",
       "    .dataframe thead th {\n",
       "        text-align: right;\n",
       "    }\n",
       "</style>\n",
       "<table border=\"1\" class=\"dataframe\">\n",
       "  <thead>\n",
       "    <tr style=\"text-align: right;\">\n",
       "      <th></th>\n",
       "      <th>id_prod</th>\n",
       "      <th>date</th>\n",
       "      <th>session_id</th>\n",
       "      <th>client_id</th>\n",
       "    </tr>\n",
       "  </thead>\n",
       "  <tbody>\n",
       "    <tr>\n",
       "      <th>3019</th>\n",
       "      <td>T_0</td>\n",
       "      <td>test_2021-03-01 02:30:02.237419</td>\n",
       "      <td>s_0</td>\n",
       "      <td>ct_0</td>\n",
       "    </tr>\n",
       "    <tr>\n",
       "      <th>5138</th>\n",
       "      <td>T_0</td>\n",
       "      <td>test_2021-03-01 02:30:02.237425</td>\n",
       "      <td>s_0</td>\n",
       "      <td>ct_0</td>\n",
       "    </tr>\n",
       "    <tr>\n",
       "      <th>9668</th>\n",
       "      <td>T_0</td>\n",
       "      <td>test_2021-03-01 02:30:02.237437</td>\n",
       "      <td>s_0</td>\n",
       "      <td>ct_1</td>\n",
       "    </tr>\n",
       "    <tr>\n",
       "      <th>10728</th>\n",
       "      <td>T_0</td>\n",
       "      <td>test_2021-03-01 02:30:02.237436</td>\n",
       "      <td>s_0</td>\n",
       "      <td>ct_0</td>\n",
       "    </tr>\n",
       "    <tr>\n",
       "      <th>15292</th>\n",
       "      <td>T_0</td>\n",
       "      <td>test_2021-03-01 02:30:02.237430</td>\n",
       "      <td>s_0</td>\n",
       "      <td>ct_0</td>\n",
       "    </tr>\n",
       "    <tr>\n",
       "      <th>...</th>\n",
       "      <td>...</td>\n",
       "      <td>...</td>\n",
       "      <td>...</td>\n",
       "      <td>...</td>\n",
       "    </tr>\n",
       "    <tr>\n",
       "      <th>657830</th>\n",
       "      <td>T_0</td>\n",
       "      <td>test_2021-03-01 02:30:02.237417</td>\n",
       "      <td>s_0</td>\n",
       "      <td>ct_0</td>\n",
       "    </tr>\n",
       "    <tr>\n",
       "      <th>662081</th>\n",
       "      <td>T_0</td>\n",
       "      <td>test_2021-03-01 02:30:02.237427</td>\n",
       "      <td>s_0</td>\n",
       "      <td>ct_1</td>\n",
       "    </tr>\n",
       "    <tr>\n",
       "      <th>670680</th>\n",
       "      <td>T_0</td>\n",
       "      <td>test_2021-03-01 02:30:02.237449</td>\n",
       "      <td>s_0</td>\n",
       "      <td>ct_1</td>\n",
       "    </tr>\n",
       "    <tr>\n",
       "      <th>671647</th>\n",
       "      <td>T_0</td>\n",
       "      <td>test_2021-03-01 02:30:02.237424</td>\n",
       "      <td>s_0</td>\n",
       "      <td>ct_1</td>\n",
       "    </tr>\n",
       "    <tr>\n",
       "      <th>679180</th>\n",
       "      <td>T_0</td>\n",
       "      <td>test_2021-03-01 02:30:02.237425</td>\n",
       "      <td>s_0</td>\n",
       "      <td>ct_1</td>\n",
       "    </tr>\n",
       "  </tbody>\n",
       "</table>\n",
       "<p>200 rows × 4 columns</p>\n",
       "</div>"
      ],
      "text/plain": [
       "       id_prod                             date session_id client_id\n",
       "3019       T_0  test_2021-03-01 02:30:02.237419        s_0      ct_0\n",
       "5138       T_0  test_2021-03-01 02:30:02.237425        s_0      ct_0\n",
       "9668       T_0  test_2021-03-01 02:30:02.237437        s_0      ct_1\n",
       "10728      T_0  test_2021-03-01 02:30:02.237436        s_0      ct_0\n",
       "15292      T_0  test_2021-03-01 02:30:02.237430        s_0      ct_0\n",
       "...        ...                              ...        ...       ...\n",
       "657830     T_0  test_2021-03-01 02:30:02.237417        s_0      ct_0\n",
       "662081     T_0  test_2021-03-01 02:30:02.237427        s_0      ct_1\n",
       "670680     T_0  test_2021-03-01 02:30:02.237449        s_0      ct_1\n",
       "671647     T_0  test_2021-03-01 02:30:02.237424        s_0      ct_1\n",
       "679180     T_0  test_2021-03-01 02:30:02.237425        s_0      ct_1\n",
       "\n",
       "[200 rows x 4 columns]"
      ]
     },
     "execution_count": 26,
     "metadata": {},
     "output_type": "execute_result"
    }
   ],
   "source": [
    "#Identifier les lignes avec les dates qui commencent par test\n",
    "df_transactions[df_transactions[\"date\"].str.startswith(\"test\")]"
   ]
  },
  {
   "cell_type": "raw",
   "id": "166ac840",
   "metadata": {},
   "source": [
    "On consate qu'elles sont au nombre de 200. On compte faire ce projet que sur des données réelles du coup on va les supprimer de la table transactions"
   ]
  },
  {
   "cell_type": "code",
   "execution_count": 27,
   "id": "0fb4eeaf",
   "metadata": {},
   "outputs": [
    {
     "name": "stdout",
     "output_type": "stream",
     "text": [
      "<class 'pandas.core.frame.DataFrame'>\n",
      "Int64Index: 679332 entries, 0 to 679531\n",
      "Data columns (total 4 columns):\n",
      " #   Column      Non-Null Count   Dtype         \n",
      "---  ------      --------------   -----         \n",
      " 0   id_prod     679332 non-null  object        \n",
      " 1   date        679332 non-null  datetime64[ns]\n",
      " 2   session_id  679332 non-null  object        \n",
      " 3   client_id   679332 non-null  object        \n",
      "dtypes: datetime64[ns](1), object(3)\n",
      "memory usage: 25.9+ MB\n"
     ]
    }
   ],
   "source": [
    "#Dataframe sans les données tests\n",
    "df_transactions = df_transactions[~df_transactions[\"date\"].str.startswith(\"test\")]\n",
    "#Modifier le type de la variable date en \"datetime\"\n",
    "df_transactions[\"date\"] = pd.to_datetime(df_transactions[\"date\"])\n",
    "#Informations sur la table\n",
    "df_transactions.info()"
   ]
  },
  {
   "cell_type": "markdown",
   "id": "36591458",
   "metadata": {},
   "source": [
    "### 1.3 Fusion des dataframe"
   ]
  },
  {
   "cell_type": "code",
   "execution_count": 28,
   "id": "2ba0ccc8",
   "metadata": {},
   "outputs": [
    {
     "data": {
      "text/html": [
       "<div>\n",
       "<style scoped>\n",
       "    .dataframe tbody tr th:only-of-type {\n",
       "        vertical-align: middle;\n",
       "    }\n",
       "\n",
       "    .dataframe tbody tr th {\n",
       "        vertical-align: top;\n",
       "    }\n",
       "\n",
       "    .dataframe thead th {\n",
       "        text-align: right;\n",
       "    }\n",
       "</style>\n",
       "<table border=\"1\" class=\"dataframe\">\n",
       "  <thead>\n",
       "    <tr style=\"text-align: right;\">\n",
       "      <th></th>\n",
       "      <th>id_prod</th>\n",
       "      <th>date</th>\n",
       "      <th>session_id</th>\n",
       "      <th>client_id</th>\n",
       "      <th>price</th>\n",
       "      <th>categ</th>\n",
       "    </tr>\n",
       "  </thead>\n",
       "  <tbody>\n",
       "    <tr>\n",
       "      <th>0</th>\n",
       "      <td>0_1518</td>\n",
       "      <td>2022-05-20 13:21:29.043970</td>\n",
       "      <td>s_211425</td>\n",
       "      <td>c_103</td>\n",
       "      <td>4.18</td>\n",
       "      <td>0</td>\n",
       "    </tr>\n",
       "    <tr>\n",
       "      <th>1</th>\n",
       "      <td>1_251</td>\n",
       "      <td>2022-02-02 07:55:19.149409</td>\n",
       "      <td>s_158752</td>\n",
       "      <td>c_8534</td>\n",
       "      <td>15.99</td>\n",
       "      <td>1</td>\n",
       "    </tr>\n",
       "    <tr>\n",
       "      <th>2</th>\n",
       "      <td>0_1277</td>\n",
       "      <td>2022-06-18 15:44:33.155329</td>\n",
       "      <td>s_225667</td>\n",
       "      <td>c_6714</td>\n",
       "      <td>7.99</td>\n",
       "      <td>0</td>\n",
       "    </tr>\n",
       "    <tr>\n",
       "      <th>3</th>\n",
       "      <td>2_209</td>\n",
       "      <td>2021-06-24 04:19:29.835891</td>\n",
       "      <td>s_52962</td>\n",
       "      <td>c_6941</td>\n",
       "      <td>69.99</td>\n",
       "      <td>2</td>\n",
       "    </tr>\n",
       "    <tr>\n",
       "      <th>4</th>\n",
       "      <td>0_1509</td>\n",
       "      <td>2023-01-11 08:22:08.194479</td>\n",
       "      <td>s_325227</td>\n",
       "      <td>c_4232</td>\n",
       "      <td>4.99</td>\n",
       "      <td>0</td>\n",
       "    </tr>\n",
       "    <tr>\n",
       "      <th>...</th>\n",
       "      <td>...</td>\n",
       "      <td>...</td>\n",
       "      <td>...</td>\n",
       "      <td>...</td>\n",
       "      <td>...</td>\n",
       "      <td>...</td>\n",
       "    </tr>\n",
       "    <tr>\n",
       "      <th>679327</th>\n",
       "      <td>0_1551</td>\n",
       "      <td>2022-01-15 13:05:06.246925</td>\n",
       "      <td>s_150195</td>\n",
       "      <td>c_8489</td>\n",
       "      <td>12.99</td>\n",
       "      <td>0</td>\n",
       "    </tr>\n",
       "    <tr>\n",
       "      <th>679328</th>\n",
       "      <td>1_639</td>\n",
       "      <td>2022-03-19 16:03:23.429229</td>\n",
       "      <td>s_181434</td>\n",
       "      <td>c_4370</td>\n",
       "      <td>10.99</td>\n",
       "      <td>1</td>\n",
       "    </tr>\n",
       "    <tr>\n",
       "      <th>679329</th>\n",
       "      <td>0_1425</td>\n",
       "      <td>2022-12-20 04:33:37.584749</td>\n",
       "      <td>s_314704</td>\n",
       "      <td>c_304</td>\n",
       "      <td>12.99</td>\n",
       "      <td>0</td>\n",
       "    </tr>\n",
       "    <tr>\n",
       "      <th>679330</th>\n",
       "      <td>0_1994</td>\n",
       "      <td>2021-07-16 20:36:35.350579</td>\n",
       "      <td>s_63204</td>\n",
       "      <td>c_2227</td>\n",
       "      <td>4.98</td>\n",
       "      <td>0</td>\n",
       "    </tr>\n",
       "    <tr>\n",
       "      <th>679331</th>\n",
       "      <td>1_523</td>\n",
       "      <td>2022-09-28 01:12:01.973763</td>\n",
       "      <td>s_274568</td>\n",
       "      <td>c_3873</td>\n",
       "      <td>23.99</td>\n",
       "      <td>1</td>\n",
       "    </tr>\n",
       "  </tbody>\n",
       "</table>\n",
       "<p>679332 rows × 6 columns</p>\n",
       "</div>"
      ],
      "text/plain": [
       "       id_prod                       date session_id client_id  price categ\n",
       "0       0_1518 2022-05-20 13:21:29.043970   s_211425     c_103   4.18     0\n",
       "1        1_251 2022-02-02 07:55:19.149409   s_158752    c_8534  15.99     1\n",
       "2       0_1277 2022-06-18 15:44:33.155329   s_225667    c_6714   7.99     0\n",
       "3        2_209 2021-06-24 04:19:29.835891    s_52962    c_6941  69.99     2\n",
       "4       0_1509 2023-01-11 08:22:08.194479   s_325227    c_4232   4.99     0\n",
       "...        ...                        ...        ...       ...    ...   ...\n",
       "679327  0_1551 2022-01-15 13:05:06.246925   s_150195    c_8489  12.99     0\n",
       "679328   1_639 2022-03-19 16:03:23.429229   s_181434    c_4370  10.99     1\n",
       "679329  0_1425 2022-12-20 04:33:37.584749   s_314704     c_304  12.99     0\n",
       "679330  0_1994 2021-07-16 20:36:35.350579    s_63204    c_2227   4.98     0\n",
       "679331   1_523 2022-09-28 01:12:01.973763   s_274568    c_3873  23.99     1\n",
       "\n",
       "[679332 rows x 6 columns]"
      ]
     },
     "execution_count": 28,
     "metadata": {},
     "output_type": "execute_result"
    }
   ],
   "source": [
    "#Première fusion entre la table transactions et la table productions  \n",
    "fusion = pd.merge(df_transactions,df_products,on=\"id_prod\",how=\"left\")\n",
    "fusion"
   ]
  },
  {
   "cell_type": "code",
   "execution_count": 29,
   "id": "f39699a9",
   "metadata": {},
   "outputs": [
    {
     "data": {
      "text/html": [
       "<div>\n",
       "<style scoped>\n",
       "    .dataframe tbody tr th:only-of-type {\n",
       "        vertical-align: middle;\n",
       "    }\n",
       "\n",
       "    .dataframe tbody tr th {\n",
       "        vertical-align: top;\n",
       "    }\n",
       "\n",
       "    .dataframe thead th {\n",
       "        text-align: right;\n",
       "    }\n",
       "</style>\n",
       "<table border=\"1\" class=\"dataframe\">\n",
       "  <thead>\n",
       "    <tr style=\"text-align: right;\">\n",
       "      <th></th>\n",
       "      <th>id_prod</th>\n",
       "      <th>date</th>\n",
       "      <th>session_id</th>\n",
       "      <th>client_id</th>\n",
       "      <th>price</th>\n",
       "      <th>categ</th>\n",
       "      <th>sex</th>\n",
       "      <th>birth</th>\n",
       "    </tr>\n",
       "  </thead>\n",
       "  <tbody>\n",
       "    <tr>\n",
       "      <th>0</th>\n",
       "      <td>0_1518</td>\n",
       "      <td>2022-05-20 13:21:29.043970</td>\n",
       "      <td>s_211425</td>\n",
       "      <td>c_103</td>\n",
       "      <td>4.18</td>\n",
       "      <td>0</td>\n",
       "      <td>f</td>\n",
       "      <td>1986</td>\n",
       "    </tr>\n",
       "    <tr>\n",
       "      <th>1</th>\n",
       "      <td>1_251</td>\n",
       "      <td>2022-02-02 07:55:19.149409</td>\n",
       "      <td>s_158752</td>\n",
       "      <td>c_8534</td>\n",
       "      <td>15.99</td>\n",
       "      <td>1</td>\n",
       "      <td>m</td>\n",
       "      <td>1988</td>\n",
       "    </tr>\n",
       "    <tr>\n",
       "      <th>2</th>\n",
       "      <td>0_1277</td>\n",
       "      <td>2022-06-18 15:44:33.155329</td>\n",
       "      <td>s_225667</td>\n",
       "      <td>c_6714</td>\n",
       "      <td>7.99</td>\n",
       "      <td>0</td>\n",
       "      <td>f</td>\n",
       "      <td>1968</td>\n",
       "    </tr>\n",
       "    <tr>\n",
       "      <th>3</th>\n",
       "      <td>2_209</td>\n",
       "      <td>2021-06-24 04:19:29.835891</td>\n",
       "      <td>s_52962</td>\n",
       "      <td>c_6941</td>\n",
       "      <td>69.99</td>\n",
       "      <td>2</td>\n",
       "      <td>m</td>\n",
       "      <td>2000</td>\n",
       "    </tr>\n",
       "    <tr>\n",
       "      <th>4</th>\n",
       "      <td>0_1509</td>\n",
       "      <td>2023-01-11 08:22:08.194479</td>\n",
       "      <td>s_325227</td>\n",
       "      <td>c_4232</td>\n",
       "      <td>4.99</td>\n",
       "      <td>0</td>\n",
       "      <td>m</td>\n",
       "      <td>1980</td>\n",
       "    </tr>\n",
       "    <tr>\n",
       "      <th>...</th>\n",
       "      <td>...</td>\n",
       "      <td>...</td>\n",
       "      <td>...</td>\n",
       "      <td>...</td>\n",
       "      <td>...</td>\n",
       "      <td>...</td>\n",
       "      <td>...</td>\n",
       "      <td>...</td>\n",
       "    </tr>\n",
       "    <tr>\n",
       "      <th>679327</th>\n",
       "      <td>0_1551</td>\n",
       "      <td>2022-01-15 13:05:06.246925</td>\n",
       "      <td>s_150195</td>\n",
       "      <td>c_8489</td>\n",
       "      <td>12.99</td>\n",
       "      <td>0</td>\n",
       "      <td>f</td>\n",
       "      <td>1951</td>\n",
       "    </tr>\n",
       "    <tr>\n",
       "      <th>679328</th>\n",
       "      <td>1_639</td>\n",
       "      <td>2022-03-19 16:03:23.429229</td>\n",
       "      <td>s_181434</td>\n",
       "      <td>c_4370</td>\n",
       "      <td>10.99</td>\n",
       "      <td>1</td>\n",
       "      <td>f</td>\n",
       "      <td>1977</td>\n",
       "    </tr>\n",
       "    <tr>\n",
       "      <th>679329</th>\n",
       "      <td>0_1425</td>\n",
       "      <td>2022-12-20 04:33:37.584749</td>\n",
       "      <td>s_314704</td>\n",
       "      <td>c_304</td>\n",
       "      <td>12.99</td>\n",
       "      <td>0</td>\n",
       "      <td>f</td>\n",
       "      <td>1988</td>\n",
       "    </tr>\n",
       "    <tr>\n",
       "      <th>679330</th>\n",
       "      <td>0_1994</td>\n",
       "      <td>2021-07-16 20:36:35.350579</td>\n",
       "      <td>s_63204</td>\n",
       "      <td>c_2227</td>\n",
       "      <td>4.98</td>\n",
       "      <td>0</td>\n",
       "      <td>m</td>\n",
       "      <td>1986</td>\n",
       "    </tr>\n",
       "    <tr>\n",
       "      <th>679331</th>\n",
       "      <td>1_523</td>\n",
       "      <td>2022-09-28 01:12:01.973763</td>\n",
       "      <td>s_274568</td>\n",
       "      <td>c_3873</td>\n",
       "      <td>23.99</td>\n",
       "      <td>1</td>\n",
       "      <td>m</td>\n",
       "      <td>1995</td>\n",
       "    </tr>\n",
       "  </tbody>\n",
       "</table>\n",
       "<p>679332 rows × 8 columns</p>\n",
       "</div>"
      ],
      "text/plain": [
       "       id_prod                       date session_id client_id  price categ  \\\n",
       "0       0_1518 2022-05-20 13:21:29.043970   s_211425     c_103   4.18     0   \n",
       "1        1_251 2022-02-02 07:55:19.149409   s_158752    c_8534  15.99     1   \n",
       "2       0_1277 2022-06-18 15:44:33.155329   s_225667    c_6714   7.99     0   \n",
       "3        2_209 2021-06-24 04:19:29.835891    s_52962    c_6941  69.99     2   \n",
       "4       0_1509 2023-01-11 08:22:08.194479   s_325227    c_4232   4.99     0   \n",
       "...        ...                        ...        ...       ...    ...   ...   \n",
       "679327  0_1551 2022-01-15 13:05:06.246925   s_150195    c_8489  12.99     0   \n",
       "679328   1_639 2022-03-19 16:03:23.429229   s_181434    c_4370  10.99     1   \n",
       "679329  0_1425 2022-12-20 04:33:37.584749   s_314704     c_304  12.99     0   \n",
       "679330  0_1994 2021-07-16 20:36:35.350579    s_63204    c_2227   4.98     0   \n",
       "679331   1_523 2022-09-28 01:12:01.973763   s_274568    c_3873  23.99     1   \n",
       "\n",
       "       sex  birth  \n",
       "0        f   1986  \n",
       "1        m   1988  \n",
       "2        f   1968  \n",
       "3        m   2000  \n",
       "4        m   1980  \n",
       "...     ..    ...  \n",
       "679327   f   1951  \n",
       "679328   f   1977  \n",
       "679329   f   1988  \n",
       "679330   m   1986  \n",
       "679331   m   1995  \n",
       "\n",
       "[679332 rows x 8 columns]"
      ]
     },
     "execution_count": 29,
     "metadata": {},
     "output_type": "execute_result"
    }
   ],
   "source": [
    "#Deuxième fusion entre la première et la table consommateurs\n",
    "data = pd.merge(fusion,df_customers,on=\"client_id\",how=\"left\")\n",
    "data"
   ]
  },
  {
   "cell_type": "code",
   "execution_count": 30,
   "id": "0bdda8c7",
   "metadata": {},
   "outputs": [
    {
     "name": "stdout",
     "output_type": "stream",
     "text": [
      "<class 'pandas.core.frame.DataFrame'>\n",
      "Int64Index: 679332 entries, 0 to 679331\n",
      "Data columns (total 8 columns):\n",
      " #   Column      Non-Null Count   Dtype         \n",
      "---  ------      --------------   -----         \n",
      " 0   id_prod     679332 non-null  object        \n",
      " 1   date        679332 non-null  datetime64[ns]\n",
      " 2   session_id  679332 non-null  object        \n",
      " 3   client_id   679332 non-null  object        \n",
      " 4   price       679111 non-null  float64       \n",
      " 5   categ       679111 non-null  object        \n",
      " 6   sex         679332 non-null  object        \n",
      " 7   birth       679332 non-null  int64         \n",
      "dtypes: datetime64[ns](1), float64(1), int64(1), object(5)\n",
      "memory usage: 46.6+ MB\n"
     ]
    }
   ],
   "source": [
    "#Informations sur table finale après fusion \n",
    "data.info()"
   ]
  },
  {
   "cell_type": "code",
   "execution_count": 31,
   "id": "32bd53c7",
   "metadata": {},
   "outputs": [
    {
     "data": {
      "text/plain": [
       "id_prod         0\n",
       "date            0\n",
       "session_id      0\n",
       "client_id       0\n",
       "price         221\n",
       "categ         221\n",
       "sex             0\n",
       "birth           0\n",
       "dtype: int64"
      ]
     },
     "execution_count": 31,
     "metadata": {},
     "output_type": "execute_result"
    }
   ],
   "source": [
    "#Vérifier les valeus manquantes\n",
    "data.isnull().sum()"
   ]
  },
  {
   "cell_type": "code",
   "execution_count": 32,
   "id": "270c976d",
   "metadata": {},
   "outputs": [
    {
     "data": {
      "text/html": [
       "<div>\n",
       "<style scoped>\n",
       "    .dataframe tbody tr th:only-of-type {\n",
       "        vertical-align: middle;\n",
       "    }\n",
       "\n",
       "    .dataframe tbody tr th {\n",
       "        vertical-align: top;\n",
       "    }\n",
       "\n",
       "    .dataframe thead th {\n",
       "        text-align: right;\n",
       "    }\n",
       "</style>\n",
       "<table border=\"1\" class=\"dataframe\">\n",
       "  <thead>\n",
       "    <tr style=\"text-align: right;\">\n",
       "      <th></th>\n",
       "      <th>id_prod</th>\n",
       "      <th>date</th>\n",
       "      <th>session_id</th>\n",
       "      <th>client_id</th>\n",
       "      <th>price</th>\n",
       "      <th>categ</th>\n",
       "      <th>sex</th>\n",
       "      <th>birth</th>\n",
       "    </tr>\n",
       "  </thead>\n",
       "  <tbody>\n",
       "    <tr>\n",
       "      <th>2633</th>\n",
       "      <td>0_2245</td>\n",
       "      <td>2022-09-23 07:22:38.636773</td>\n",
       "      <td>s_272266</td>\n",
       "      <td>c_4746</td>\n",
       "      <td>NaN</td>\n",
       "      <td>NaN</td>\n",
       "      <td>m</td>\n",
       "      <td>1940</td>\n",
       "    </tr>\n",
       "    <tr>\n",
       "      <th>10103</th>\n",
       "      <td>0_2245</td>\n",
       "      <td>2022-07-23 09:24:14.133889</td>\n",
       "      <td>s_242482</td>\n",
       "      <td>c_6713</td>\n",
       "      <td>NaN</td>\n",
       "      <td>NaN</td>\n",
       "      <td>f</td>\n",
       "      <td>1963</td>\n",
       "    </tr>\n",
       "    <tr>\n",
       "      <th>11723</th>\n",
       "      <td>0_2245</td>\n",
       "      <td>2022-12-03 03:26:35.696673</td>\n",
       "      <td>s_306338</td>\n",
       "      <td>c_5108</td>\n",
       "      <td>NaN</td>\n",
       "      <td>NaN</td>\n",
       "      <td>m</td>\n",
       "      <td>1978</td>\n",
       "    </tr>\n",
       "    <tr>\n",
       "      <th>15670</th>\n",
       "      <td>0_2245</td>\n",
       "      <td>2021-08-16 11:33:25.481411</td>\n",
       "      <td>s_76493</td>\n",
       "      <td>c_1391</td>\n",
       "      <td>NaN</td>\n",
       "      <td>NaN</td>\n",
       "      <td>m</td>\n",
       "      <td>1991</td>\n",
       "    </tr>\n",
       "    <tr>\n",
       "      <th>16372</th>\n",
       "      <td>0_2245</td>\n",
       "      <td>2022-07-16 05:53:01.627491</td>\n",
       "      <td>s_239078</td>\n",
       "      <td>c_7954</td>\n",
       "      <td>NaN</td>\n",
       "      <td>NaN</td>\n",
       "      <td>m</td>\n",
       "      <td>1973</td>\n",
       "    </tr>\n",
       "    <tr>\n",
       "      <th>...</th>\n",
       "      <td>...</td>\n",
       "      <td>...</td>\n",
       "      <td>...</td>\n",
       "      <td>...</td>\n",
       "      <td>...</td>\n",
       "      <td>...</td>\n",
       "      <td>...</td>\n",
       "      <td>...</td>\n",
       "    </tr>\n",
       "    <tr>\n",
       "      <th>669533</th>\n",
       "      <td>0_2245</td>\n",
       "      <td>2021-08-25 09:06:03.504061</td>\n",
       "      <td>s_80395</td>\n",
       "      <td>c_131</td>\n",
       "      <td>NaN</td>\n",
       "      <td>NaN</td>\n",
       "      <td>m</td>\n",
       "      <td>1981</td>\n",
       "    </tr>\n",
       "    <tr>\n",
       "      <th>670484</th>\n",
       "      <td>0_2245</td>\n",
       "      <td>2022-03-06 19:59:19.462288</td>\n",
       "      <td>s_175311</td>\n",
       "      <td>c_4167</td>\n",
       "      <td>NaN</td>\n",
       "      <td>NaN</td>\n",
       "      <td>f</td>\n",
       "      <td>1979</td>\n",
       "    </tr>\n",
       "    <tr>\n",
       "      <th>671088</th>\n",
       "      <td>0_2245</td>\n",
       "      <td>2022-05-16 11:35:20.319501</td>\n",
       "      <td>s_209381</td>\n",
       "      <td>c_4453</td>\n",
       "      <td>NaN</td>\n",
       "      <td>NaN</td>\n",
       "      <td>m</td>\n",
       "      <td>1981</td>\n",
       "    </tr>\n",
       "    <tr>\n",
       "      <th>675480</th>\n",
       "      <td>0_2245</td>\n",
       "      <td>2022-02-11 09:05:43.952857</td>\n",
       "      <td>s_163405</td>\n",
       "      <td>c_1098</td>\n",
       "      <td>NaN</td>\n",
       "      <td>NaN</td>\n",
       "      <td>m</td>\n",
       "      <td>1986</td>\n",
       "    </tr>\n",
       "    <tr>\n",
       "      <th>677797</th>\n",
       "      <td>0_2245</td>\n",
       "      <td>2021-12-14 22:34:54.589921</td>\n",
       "      <td>s_134446</td>\n",
       "      <td>c_4854</td>\n",
       "      <td>NaN</td>\n",
       "      <td>NaN</td>\n",
       "      <td>m</td>\n",
       "      <td>1968</td>\n",
       "    </tr>\n",
       "  </tbody>\n",
       "</table>\n",
       "<p>221 rows × 8 columns</p>\n",
       "</div>"
      ],
      "text/plain": [
       "       id_prod                       date session_id client_id  price categ  \\\n",
       "2633    0_2245 2022-09-23 07:22:38.636773   s_272266    c_4746    NaN   NaN   \n",
       "10103   0_2245 2022-07-23 09:24:14.133889   s_242482    c_6713    NaN   NaN   \n",
       "11723   0_2245 2022-12-03 03:26:35.696673   s_306338    c_5108    NaN   NaN   \n",
       "15670   0_2245 2021-08-16 11:33:25.481411    s_76493    c_1391    NaN   NaN   \n",
       "16372   0_2245 2022-07-16 05:53:01.627491   s_239078    c_7954    NaN   NaN   \n",
       "...        ...                        ...        ...       ...    ...   ...   \n",
       "669533  0_2245 2021-08-25 09:06:03.504061    s_80395     c_131    NaN   NaN   \n",
       "670484  0_2245 2022-03-06 19:59:19.462288   s_175311    c_4167    NaN   NaN   \n",
       "671088  0_2245 2022-05-16 11:35:20.319501   s_209381    c_4453    NaN   NaN   \n",
       "675480  0_2245 2022-02-11 09:05:43.952857   s_163405    c_1098    NaN   NaN   \n",
       "677797  0_2245 2021-12-14 22:34:54.589921   s_134446    c_4854    NaN   NaN   \n",
       "\n",
       "       sex  birth  \n",
       "2633     m   1940  \n",
       "10103    f   1963  \n",
       "11723    m   1978  \n",
       "15670    m   1991  \n",
       "16372    m   1973  \n",
       "...     ..    ...  \n",
       "669533   m   1981  \n",
       "670484   f   1979  \n",
       "671088   m   1981  \n",
       "675480   m   1986  \n",
       "677797   m   1968  \n",
       "\n",
       "[221 rows x 8 columns]"
      ]
     },
     "execution_count": 32,
     "metadata": {},
     "output_type": "execute_result"
    }
   ],
   "source": [
    "#Identifier les valeurs manquantes\n",
    "data[data[\"price\"].isnull()]"
   ]
  },
  {
   "cell_type": "raw",
   "id": "594b8a64",
   "metadata": {},
   "source": [
    "Ces valeurs manquantes sont observées à la fois sur la variable prix et catégorie. Du coup on fera pas d'imputation on va juste les supprimer"
   ]
  },
  {
   "cell_type": "code",
   "execution_count": 33,
   "id": "dc8b1039",
   "metadata": {},
   "outputs": [
    {
     "data": {
      "text/plain": [
       "id_prod       0\n",
       "date          0\n",
       "session_id    0\n",
       "client_id     0\n",
       "price         0\n",
       "categ         0\n",
       "sex           0\n",
       "birth         0\n",
       "dtype: int64"
      ]
     },
     "execution_count": 33,
     "metadata": {},
     "output_type": "execute_result"
    }
   ],
   "source": [
    "#Suppression des valeurs manquantes\n",
    "data = data.dropna()\n",
    "#Vérification à nouveau des valeurs manquantes\n",
    "data.isnull().sum()"
   ]
  },
  {
   "cell_type": "code",
   "execution_count": 34,
   "id": "68bde68c",
   "metadata": {},
   "outputs": [
    {
     "data": {
      "text/plain": [
       "0"
      ]
     },
     "execution_count": 34,
     "metadata": {},
     "output_type": "execute_result"
    }
   ],
   "source": [
    "#Vérification des doublons\n",
    "data.duplicated().sum()"
   ]
  },
  {
   "cell_type": "code",
   "execution_count": 35,
   "id": "00039cdb",
   "metadata": {},
   "outputs": [
    {
     "name": "stdout",
     "output_type": "stream",
     "text": [
      "<class 'pandas.core.frame.DataFrame'>\n",
      "Int64Index: 679111 entries, 0 to 679331\n",
      "Data columns (total 8 columns):\n",
      " #   Column      Non-Null Count   Dtype         \n",
      "---  ------      --------------   -----         \n",
      " 0   id_prod     679111 non-null  object        \n",
      " 1   date        679111 non-null  datetime64[ns]\n",
      " 2   session_id  679111 non-null  object        \n",
      " 3   client_id   679111 non-null  object        \n",
      " 4   price       679111 non-null  float64       \n",
      " 5   categ       679111 non-null  object        \n",
      " 6   sex         679111 non-null  object        \n",
      " 7   birth       679111 non-null  int64         \n",
      "dtypes: datetime64[ns](1), float64(1), int64(1), object(5)\n",
      "memory usage: 46.6+ MB\n"
     ]
    }
   ],
   "source": [
    "#Informations sur le dataframe final\n",
    "data.info()"
   ]
  },
  {
   "cell_type": "code",
   "execution_count": 36,
   "id": "b5325c97",
   "metadata": {},
   "outputs": [
    {
     "data": {
      "text/plain": [
       "(679111, 8)"
      ]
     },
     "execution_count": 36,
     "metadata": {},
     "output_type": "execute_result"
    }
   ],
   "source": [
    "#Force du dataframe final\n",
    "data.shape"
   ]
  },
  {
   "cell_type": "code",
   "execution_count": 37,
   "id": "7b525507",
   "metadata": {},
   "outputs": [
    {
     "data": {
      "text/html": [
       "<div>\n",
       "<style scoped>\n",
       "    .dataframe tbody tr th:only-of-type {\n",
       "        vertical-align: middle;\n",
       "    }\n",
       "\n",
       "    .dataframe tbody tr th {\n",
       "        vertical-align: top;\n",
       "    }\n",
       "\n",
       "    .dataframe thead th {\n",
       "        text-align: right;\n",
       "    }\n",
       "</style>\n",
       "<table border=\"1\" class=\"dataframe\">\n",
       "  <thead>\n",
       "    <tr style=\"text-align: right;\">\n",
       "      <th></th>\n",
       "      <th>id_prod</th>\n",
       "      <th>session_id</th>\n",
       "      <th>client_id</th>\n",
       "      <th>price</th>\n",
       "      <th>categ</th>\n",
       "      <th>sex</th>\n",
       "      <th>birth</th>\n",
       "    </tr>\n",
       "    <tr>\n",
       "      <th>date</th>\n",
       "      <th></th>\n",
       "      <th></th>\n",
       "      <th></th>\n",
       "      <th></th>\n",
       "      <th></th>\n",
       "      <th></th>\n",
       "      <th></th>\n",
       "    </tr>\n",
       "  </thead>\n",
       "  <tbody>\n",
       "    <tr>\n",
       "      <th>2022-05-20 13:21:29.043970</th>\n",
       "      <td>0_1518</td>\n",
       "      <td>s_211425</td>\n",
       "      <td>c_103</td>\n",
       "      <td>4.18</td>\n",
       "      <td>0</td>\n",
       "      <td>f</td>\n",
       "      <td>1986</td>\n",
       "    </tr>\n",
       "    <tr>\n",
       "      <th>2022-02-02 07:55:19.149409</th>\n",
       "      <td>1_251</td>\n",
       "      <td>s_158752</td>\n",
       "      <td>c_8534</td>\n",
       "      <td>15.99</td>\n",
       "      <td>1</td>\n",
       "      <td>m</td>\n",
       "      <td>1988</td>\n",
       "    </tr>\n",
       "    <tr>\n",
       "      <th>2022-06-18 15:44:33.155329</th>\n",
       "      <td>0_1277</td>\n",
       "      <td>s_225667</td>\n",
       "      <td>c_6714</td>\n",
       "      <td>7.99</td>\n",
       "      <td>0</td>\n",
       "      <td>f</td>\n",
       "      <td>1968</td>\n",
       "    </tr>\n",
       "    <tr>\n",
       "      <th>2021-06-24 04:19:29.835891</th>\n",
       "      <td>2_209</td>\n",
       "      <td>s_52962</td>\n",
       "      <td>c_6941</td>\n",
       "      <td>69.99</td>\n",
       "      <td>2</td>\n",
       "      <td>m</td>\n",
       "      <td>2000</td>\n",
       "    </tr>\n",
       "    <tr>\n",
       "      <th>2023-01-11 08:22:08.194479</th>\n",
       "      <td>0_1509</td>\n",
       "      <td>s_325227</td>\n",
       "      <td>c_4232</td>\n",
       "      <td>4.99</td>\n",
       "      <td>0</td>\n",
       "      <td>m</td>\n",
       "      <td>1980</td>\n",
       "    </tr>\n",
       "    <tr>\n",
       "      <th>...</th>\n",
       "      <td>...</td>\n",
       "      <td>...</td>\n",
       "      <td>...</td>\n",
       "      <td>...</td>\n",
       "      <td>...</td>\n",
       "      <td>...</td>\n",
       "      <td>...</td>\n",
       "    </tr>\n",
       "    <tr>\n",
       "      <th>2022-01-15 13:05:06.246925</th>\n",
       "      <td>0_1551</td>\n",
       "      <td>s_150195</td>\n",
       "      <td>c_8489</td>\n",
       "      <td>12.99</td>\n",
       "      <td>0</td>\n",
       "      <td>f</td>\n",
       "      <td>1951</td>\n",
       "    </tr>\n",
       "    <tr>\n",
       "      <th>2022-03-19 16:03:23.429229</th>\n",
       "      <td>1_639</td>\n",
       "      <td>s_181434</td>\n",
       "      <td>c_4370</td>\n",
       "      <td>10.99</td>\n",
       "      <td>1</td>\n",
       "      <td>f</td>\n",
       "      <td>1977</td>\n",
       "    </tr>\n",
       "    <tr>\n",
       "      <th>2022-12-20 04:33:37.584749</th>\n",
       "      <td>0_1425</td>\n",
       "      <td>s_314704</td>\n",
       "      <td>c_304</td>\n",
       "      <td>12.99</td>\n",
       "      <td>0</td>\n",
       "      <td>f</td>\n",
       "      <td>1988</td>\n",
       "    </tr>\n",
       "    <tr>\n",
       "      <th>2021-07-16 20:36:35.350579</th>\n",
       "      <td>0_1994</td>\n",
       "      <td>s_63204</td>\n",
       "      <td>c_2227</td>\n",
       "      <td>4.98</td>\n",
       "      <td>0</td>\n",
       "      <td>m</td>\n",
       "      <td>1986</td>\n",
       "    </tr>\n",
       "    <tr>\n",
       "      <th>2022-09-28 01:12:01.973763</th>\n",
       "      <td>1_523</td>\n",
       "      <td>s_274568</td>\n",
       "      <td>c_3873</td>\n",
       "      <td>23.99</td>\n",
       "      <td>1</td>\n",
       "      <td>m</td>\n",
       "      <td>1995</td>\n",
       "    </tr>\n",
       "  </tbody>\n",
       "</table>\n",
       "<p>679111 rows × 7 columns</p>\n",
       "</div>"
      ],
      "text/plain": [
       "                           id_prod session_id client_id  price categ sex  \\\n",
       "date                                                                       \n",
       "2022-05-20 13:21:29.043970  0_1518   s_211425     c_103   4.18     0   f   \n",
       "2022-02-02 07:55:19.149409   1_251   s_158752    c_8534  15.99     1   m   \n",
       "2022-06-18 15:44:33.155329  0_1277   s_225667    c_6714   7.99     0   f   \n",
       "2021-06-24 04:19:29.835891   2_209    s_52962    c_6941  69.99     2   m   \n",
       "2023-01-11 08:22:08.194479  0_1509   s_325227    c_4232   4.99     0   m   \n",
       "...                            ...        ...       ...    ...   ...  ..   \n",
       "2022-01-15 13:05:06.246925  0_1551   s_150195    c_8489  12.99     0   f   \n",
       "2022-03-19 16:03:23.429229   1_639   s_181434    c_4370  10.99     1   f   \n",
       "2022-12-20 04:33:37.584749  0_1425   s_314704     c_304  12.99     0   f   \n",
       "2021-07-16 20:36:35.350579  0_1994    s_63204    c_2227   4.98     0   m   \n",
       "2022-09-28 01:12:01.973763   1_523   s_274568    c_3873  23.99     1   m   \n",
       "\n",
       "                            birth  \n",
       "date                               \n",
       "2022-05-20 13:21:29.043970   1986  \n",
       "2022-02-02 07:55:19.149409   1988  \n",
       "2022-06-18 15:44:33.155329   1968  \n",
       "2021-06-24 04:19:29.835891   2000  \n",
       "2023-01-11 08:22:08.194479   1980  \n",
       "...                           ...  \n",
       "2022-01-15 13:05:06.246925   1951  \n",
       "2022-03-19 16:03:23.429229   1977  \n",
       "2022-12-20 04:33:37.584749   1988  \n",
       "2021-07-16 20:36:35.350579   1986  \n",
       "2022-09-28 01:12:01.973763   1995  \n",
       "\n",
       "[679111 rows x 7 columns]"
      ]
     },
     "execution_count": 37,
     "metadata": {},
     "output_type": "execute_result"
    }
   ],
   "source": [
    "#Copie du dataframe pour y apporter des modifications\n",
    "df = data.copy()\n",
    "#Mettre la variable date en index\n",
    "df = df.set_index(\"date\")\n",
    "df"
   ]
  },
  {
   "cell_type": "code",
   "execution_count": 38,
   "id": "df4de17e",
   "metadata": {},
   "outputs": [],
   "source": [
    "#Créer une colonne année\n",
    "df[\"année\"] = df.index.year\n",
    "#Créer une colonne mois\n",
    "df[\"mois\"] = df.index.to_period(\"M\")\n",
    "#Créer une colonne semestre\n",
    "df[\"semestre\"] = df.index.to_period(\"Q\")\n",
    "#Créer une colonne jour\n",
    "df[\"jour\"] = df.index.to_period(\"D\")\n",
    "#Créer une colonne avec les noms des jours de la semaine\n",
    "df[\"jr_semaine\"] = df.index.day_name()\n",
    "#Créer une colonne avec l'age des clients\n",
    "df[\"age\"] = df[\"année\"] - df[\"birth\"]\n",
    "#Créer une colonne classe d'age\n",
    "lab = [\"moins de 30ans\",\"entre 30 et 50 ans\",\"plus de 50 ans\"]\n",
    "df[\"classe d'age\"] = pd.cut(df[\"age\"],bins=[16,30,50,94],labels=lab)"
   ]
  },
  {
   "cell_type": "code",
   "execution_count": 39,
   "id": "871f8d16",
   "metadata": {},
   "outputs": [],
   "source": [
    "#Définir une fonction pour différencier les jours ouvrables et les weekend\n",
    "def dayname(jour):\n",
    "    if jour== \"Saturday\" or jour==\"Sunday\":\n",
    "        return \"weekend\"\n",
    "    else:\n",
    "        return \"jr_ouvrable\""
   ]
  },
  {
   "cell_type": "code",
   "execution_count": 40,
   "id": "aea82da4",
   "metadata": {},
   "outputs": [
    {
     "data": {
      "text/html": [
       "<div>\n",
       "<style scoped>\n",
       "    .dataframe tbody tr th:only-of-type {\n",
       "        vertical-align: middle;\n",
       "    }\n",
       "\n",
       "    .dataframe tbody tr th {\n",
       "        vertical-align: top;\n",
       "    }\n",
       "\n",
       "    .dataframe thead th {\n",
       "        text-align: right;\n",
       "    }\n",
       "</style>\n",
       "<table border=\"1\" class=\"dataframe\">\n",
       "  <thead>\n",
       "    <tr style=\"text-align: right;\">\n",
       "      <th></th>\n",
       "      <th>id_prod</th>\n",
       "      <th>session_id</th>\n",
       "      <th>client_id</th>\n",
       "      <th>price</th>\n",
       "      <th>categ</th>\n",
       "      <th>sex</th>\n",
       "      <th>birth</th>\n",
       "      <th>année</th>\n",
       "      <th>mois</th>\n",
       "      <th>semestre</th>\n",
       "      <th>jour</th>\n",
       "      <th>jr_semaine</th>\n",
       "      <th>age</th>\n",
       "      <th>classe d'age</th>\n",
       "      <th>weekend</th>\n",
       "    </tr>\n",
       "    <tr>\n",
       "      <th>date</th>\n",
       "      <th></th>\n",
       "      <th></th>\n",
       "      <th></th>\n",
       "      <th></th>\n",
       "      <th></th>\n",
       "      <th></th>\n",
       "      <th></th>\n",
       "      <th></th>\n",
       "      <th></th>\n",
       "      <th></th>\n",
       "      <th></th>\n",
       "      <th></th>\n",
       "      <th></th>\n",
       "      <th></th>\n",
       "      <th></th>\n",
       "    </tr>\n",
       "  </thead>\n",
       "  <tbody>\n",
       "    <tr>\n",
       "      <th>2022-05-20 13:21:29.043970</th>\n",
       "      <td>0_1518</td>\n",
       "      <td>s_211425</td>\n",
       "      <td>c_103</td>\n",
       "      <td>4.18</td>\n",
       "      <td>0</td>\n",
       "      <td>f</td>\n",
       "      <td>1986</td>\n",
       "      <td>2022</td>\n",
       "      <td>2022-05</td>\n",
       "      <td>2022Q2</td>\n",
       "      <td>2022-05-20</td>\n",
       "      <td>Friday</td>\n",
       "      <td>36</td>\n",
       "      <td>entre 30 et 50 ans</td>\n",
       "      <td>jr_ouvrable</td>\n",
       "    </tr>\n",
       "    <tr>\n",
       "      <th>2022-02-02 07:55:19.149409</th>\n",
       "      <td>1_251</td>\n",
       "      <td>s_158752</td>\n",
       "      <td>c_8534</td>\n",
       "      <td>15.99</td>\n",
       "      <td>1</td>\n",
       "      <td>m</td>\n",
       "      <td>1988</td>\n",
       "      <td>2022</td>\n",
       "      <td>2022-02</td>\n",
       "      <td>2022Q1</td>\n",
       "      <td>2022-02-02</td>\n",
       "      <td>Wednesday</td>\n",
       "      <td>34</td>\n",
       "      <td>entre 30 et 50 ans</td>\n",
       "      <td>jr_ouvrable</td>\n",
       "    </tr>\n",
       "    <tr>\n",
       "      <th>2022-06-18 15:44:33.155329</th>\n",
       "      <td>0_1277</td>\n",
       "      <td>s_225667</td>\n",
       "      <td>c_6714</td>\n",
       "      <td>7.99</td>\n",
       "      <td>0</td>\n",
       "      <td>f</td>\n",
       "      <td>1968</td>\n",
       "      <td>2022</td>\n",
       "      <td>2022-06</td>\n",
       "      <td>2022Q2</td>\n",
       "      <td>2022-06-18</td>\n",
       "      <td>Saturday</td>\n",
       "      <td>54</td>\n",
       "      <td>plus de 50 ans</td>\n",
       "      <td>weekend</td>\n",
       "    </tr>\n",
       "    <tr>\n",
       "      <th>2021-06-24 04:19:29.835891</th>\n",
       "      <td>2_209</td>\n",
       "      <td>s_52962</td>\n",
       "      <td>c_6941</td>\n",
       "      <td>69.99</td>\n",
       "      <td>2</td>\n",
       "      <td>m</td>\n",
       "      <td>2000</td>\n",
       "      <td>2021</td>\n",
       "      <td>2021-06</td>\n",
       "      <td>2021Q2</td>\n",
       "      <td>2021-06-24</td>\n",
       "      <td>Thursday</td>\n",
       "      <td>21</td>\n",
       "      <td>moins de 30ans</td>\n",
       "      <td>jr_ouvrable</td>\n",
       "    </tr>\n",
       "    <tr>\n",
       "      <th>2023-01-11 08:22:08.194479</th>\n",
       "      <td>0_1509</td>\n",
       "      <td>s_325227</td>\n",
       "      <td>c_4232</td>\n",
       "      <td>4.99</td>\n",
       "      <td>0</td>\n",
       "      <td>m</td>\n",
       "      <td>1980</td>\n",
       "      <td>2023</td>\n",
       "      <td>2023-01</td>\n",
       "      <td>2023Q1</td>\n",
       "      <td>2023-01-11</td>\n",
       "      <td>Wednesday</td>\n",
       "      <td>43</td>\n",
       "      <td>entre 30 et 50 ans</td>\n",
       "      <td>jr_ouvrable</td>\n",
       "    </tr>\n",
       "  </tbody>\n",
       "</table>\n",
       "</div>"
      ],
      "text/plain": [
       "                           id_prod session_id client_id  price categ sex  \\\n",
       "date                                                                       \n",
       "2022-05-20 13:21:29.043970  0_1518   s_211425     c_103   4.18     0   f   \n",
       "2022-02-02 07:55:19.149409   1_251   s_158752    c_8534  15.99     1   m   \n",
       "2022-06-18 15:44:33.155329  0_1277   s_225667    c_6714   7.99     0   f   \n",
       "2021-06-24 04:19:29.835891   2_209    s_52962    c_6941  69.99     2   m   \n",
       "2023-01-11 08:22:08.194479  0_1509   s_325227    c_4232   4.99     0   m   \n",
       "\n",
       "                            birth  année     mois semestre        jour  \\\n",
       "date                                                                     \n",
       "2022-05-20 13:21:29.043970   1986   2022  2022-05   2022Q2  2022-05-20   \n",
       "2022-02-02 07:55:19.149409   1988   2022  2022-02   2022Q1  2022-02-02   \n",
       "2022-06-18 15:44:33.155329   1968   2022  2022-06   2022Q2  2022-06-18   \n",
       "2021-06-24 04:19:29.835891   2000   2021  2021-06   2021Q2  2021-06-24   \n",
       "2023-01-11 08:22:08.194479   1980   2023  2023-01   2023Q1  2023-01-11   \n",
       "\n",
       "                           jr_semaine  age        classe d'age      weekend  \n",
       "date                                                                         \n",
       "2022-05-20 13:21:29.043970     Friday   36  entre 30 et 50 ans  jr_ouvrable  \n",
       "2022-02-02 07:55:19.149409  Wednesday   34  entre 30 et 50 ans  jr_ouvrable  \n",
       "2022-06-18 15:44:33.155329   Saturday   54      plus de 50 ans      weekend  \n",
       "2021-06-24 04:19:29.835891   Thursday   21      moins de 30ans  jr_ouvrable  \n",
       "2023-01-11 08:22:08.194479  Wednesday   43  entre 30 et 50 ans  jr_ouvrable  "
      ]
     },
     "execution_count": 40,
     "metadata": {},
     "output_type": "execute_result"
    }
   ],
   "source": [
    "#Appliquer la fonction sur la colonne jour de la semaine\n",
    "df[\"weekend\"] = df[\"jr_semaine\"].apply(dayname)\n",
    "df.head()"
   ]
  },
  {
   "cell_type": "markdown",
   "id": "95bf5b85",
   "metadata": {},
   "source": [
    "## 2. Analyse globale"
   ]
  },
  {
   "cell_type": "markdown",
   "id": "3d775637",
   "metadata": {},
   "source": [
    "### 2.1 Variables quantitatives"
   ]
  },
  {
   "cell_type": "code",
   "execution_count": 41,
   "id": "e65b4a65",
   "metadata": {},
   "outputs": [],
   "source": [
    "#Isoler les deux variables quantitatives\n",
    "liste = [\"price\",\"age\"]"
   ]
  },
  {
   "cell_type": "code",
   "execution_count": 42,
   "id": "fb16a9d0",
   "metadata": {},
   "outputs": [
    {
     "data": {
      "image/png": "[encoded data removed]",
      "text/plain": [
       "<Figure size 900x540 with 4 Axes>"
      ]
     },
     "metadata": {
      "needs_background": "light"
     },
     "output_type": "display_data"
    }
   ],
   "source": [
    "#2tude de la distribution sur ces deux variables quantitatives\n",
    "fig,ax = plt.subplots(2,2,figsize=(10,6),dpi=90)\n",
    "for i,col in enumerate(liste):\n",
    "    sns.boxplot(data=df,x=df[col],ax=ax[i][0],color=\"green\")\n",
    "    sns.kdeplot(data=df,x=df[col],ax=ax[i][1],color=\"red\")\n",
    "fig.tight_layout(pad=1)    \n",
    "plt.show()"
   ]
  },
  {
   "cell_type": "raw",
   "id": "35a19328",
   "metadata": {},
   "source": [
    "On constate que la distribution n'est pas normale et on observe aussi beaucoup de valeurs aberrantes"
   ]
  },
  {
   "cell_type": "code",
   "execution_count": 43,
   "id": "b06e51b1",
   "metadata": {},
   "outputs": [],
   "source": [
    "#Quelques paramètres statistiques\n",
    "summary = df[liste].describe().T\n",
    "summary[\"IQR\"] = summary[\"75%\"] - summary[\"25%\"]\n",
    "summary[\"lower\"] = summary[\"25%\"] - 1.5*summary[\"IQR\"]\n",
    "summary[\"hupper\"] = summary[\"75%\"] + 1.5*summary[\"IQR\"]\n",
    "summary[\"etendue\"] = summary[\"max\"] - summary[\"min\"]\n",
    "summary[\"skewness\"] = df[liste].skew()\n",
    "summary[\"kutosis\"] = df[liste].kurtosis()\n",
    "summary[\"CV\"] = summary[\"std\"]*100/summary[\"mean\"]"
   ]
  },
  {
   "cell_type": "code",
   "execution_count": 44,
   "id": "338cc32e",
   "metadata": {},
   "outputs": [],
   "source": [
    "from tabulate import tabulate"
   ]
  },
  {
   "cell_type": "code",
   "execution_count": 45,
   "id": "19fd943f",
   "metadata": {},
   "outputs": [
    {
     "name": "stdout",
     "output_type": "stream",
     "text": [
      "╒══════════╤═════════╤══════════╕\n",
      "│          │  Prix   │   Age    │\n",
      "╞══════════╪═════════╪══════════╡\n",
      "│ count    │ 679111  │  679111  │\n",
      "├──────────┼─────────┼──────────┤\n",
      "│ mean     │ 17.4548 │ 43.8594  │\n",
      "├──────────┼─────────┼──────────┤\n",
      "│ std      │ 18.329  │  13.591  │\n",
      "├──────────┼─────────┼──────────┤\n",
      "│ min      │  0.62   │    17    │\n",
      "├──────────┼─────────┼──────────┤\n",
      "│ 25%      │  8.87   │    35    │\n",
      "├──────────┼─────────┼──────────┤\n",
      "│ 50%      │  13.99  │    42    │\n",
      "├──────────┼─────────┼──────────┤\n",
      "│ 75%      │  18.99  │    51    │\n",
      "├──────────┼─────────┼──────────┤\n",
      "│ max      │   300   │    94    │\n",
      "├──────────┼─────────┼──────────┤\n",
      "│ IQR      │  10.12  │    16    │\n",
      "├──────────┼─────────┼──────────┤\n",
      "│ lower    │  -6.31  │    11    │\n",
      "├──────────┼─────────┼──────────┤\n",
      "│ hupper   │  34.17  │    75    │\n",
      "├──────────┼─────────┼──────────┤\n",
      "│ etendue  │ 299.38  │    77    │\n",
      "├──────────┼─────────┼──────────┤\n",
      "│ skewness │ 5.39036 │ 0.568646 │\n",
      "├──────────┼─────────┼──────────┤\n",
      "│ kutosis  │ 43.0687 │ 0.416236 │\n",
      "├──────────┼─────────┼──────────┤\n",
      "│ CV       │ 105.009 │ 30.9878  │\n",
      "╘══════════╧═════════╧══════════╛\n"
     ]
    }
   ],
   "source": [
    "print(tabulate(summary.T,headers=[\"Prix\",\"Age\"],tablefmt=\"fancy_grid\",numalign=\"center\"))"
   ]
  },
  {
   "cell_type": "markdown",
   "id": "261ab2ed",
   "metadata": {},
   "source": [
    "**Interprétations**\n",
    "\n",
    " * les prix varient entre 0.62€ et 300€\n",
    " * 50% des livres ont un prix compris entre 8.87€ et 18.99€\n",
    " * 50% des livres ont un prix inférieur à 13.99€\n",
    " * le prix moyen est de 17.45€\n",
    " * le coefficient d'asymétrie montre un décalage des données vers la droite\n",
    " * le coefficient de kurtosis indique une distribution qui n'est pas aplatie\n",
    " \n",
    " \n",
    " * l'âge des clients varie entre 17ans et 94ans\n",
    " * 50% des clients ont un âge compris entre 35ans et 51ans\n",
    " * 50% des clients ont un âge inférieur à 42ans\n",
    " * l'âge moyen est de 44ans\n",
    " * le coefficient d'asymétrie montre un décalage des données vers la droite\n",
    " * le coefficient de kurtosis indique une distribution qui n'est pas aplatie\n",
    " "
   ]
  },
  {
   "cell_type": "markdown",
   "id": "b32ae889",
   "metadata": {},
   "source": [
    "### 2.2 Variables qualitatives"
   ]
  },
  {
   "cell_type": "code",
   "execution_count": 46,
   "id": "b6f35a29",
   "metadata": {},
   "outputs": [],
   "source": [
    "#Définir une fonction pour étudier la distribution des varaibales qualitatives\n",
    "def val_count(data,variable):\n",
    "    effectif = data[variable].value_counts()\n",
    "    pourcentage = data[variable].value_counts(normalize=True).round(4)*100\n",
    "    resultat = pd.concat([effectif,pourcentage],axis=1,keys=[\"Effectifs\",\"Pourcentage (%)\"])\n",
    "    print(tabulate(resultat,headers=[\"Effectifs\",\"Pourcentage (%)\"],tablefmt=\"fancy_grid\",numalign=\"center\"))"
   ]
  },
  {
   "cell_type": "code",
   "execution_count": 47,
   "id": "b3458e00",
   "metadata": {},
   "outputs": [
    {
     "name": "stdout",
     "output_type": "stream",
     "text": [
      "╒════╤═════════════╤═══════════════════╕\n",
      "│    │  Effectifs  │  Pourcentage (%)  │\n",
      "╞════╪═════════════╪═══════════════════╡\n",
      "│ 0  │   415459    │       61.18       │\n",
      "├────┼─────────────┼───────────────────┤\n",
      "│ 1  │   227169    │       33.45       │\n",
      "├────┼─────────────┼───────────────────┤\n",
      "│ 2  │    36483    │       5.37        │\n",
      "╘════╧═════════════╧═══════════════════╛\n"
     ]
    }
   ],
   "source": [
    "val_count(df,\"categ\")"
   ]
  },
  {
   "cell_type": "markdown",
   "id": "71dcb7ae",
   "metadata": {},
   "source": [
    "Les livres de catégorie 0 sont beaucoup plus représentés 61.18%. Viennent ensuite les livres de catégorie 1 qui représentent 33.45% et enfin les livres de catégorie 2 moins représentés 5.37%"
   ]
  },
  {
   "cell_type": "code",
   "execution_count": 48,
   "id": "cae12b59",
   "metadata": {},
   "outputs": [
    {
     "name": "stdout",
     "output_type": "stream",
     "text": [
      "╒════╤═════════════╤═══════════════════╕\n",
      "│    │  Effectifs  │  Pourcentage (%)  │\n",
      "╞════╪═════════════╪═══════════════════╡\n",
      "│ m  │   340826    │       50.19       │\n",
      "├────┼─────────────┼───────────────────┤\n",
      "│ f  │   338285    │       49.81       │\n",
      "╘════╧═════════════╧═══════════════════╛\n"
     ]
    }
   ],
   "source": [
    "val_count(df,\"sex\")"
   ]
  },
  {
   "cell_type": "markdown",
   "id": "d8d42ad0",
   "metadata": {},
   "source": [
    "On a presque autant de clients hommes (50.19%) que de clients femmes (49.81%)"
   ]
  },
  {
   "cell_type": "code",
   "execution_count": 49,
   "id": "967a3675",
   "metadata": {},
   "outputs": [
    {
     "name": "stdout",
     "output_type": "stream",
     "text": [
      "╒════════════════════╤═════════════╤═══════════════════╕\n",
      "│                    │  Effectifs  │  Pourcentage (%)  │\n",
      "╞════════════════════╪═════════════╪═══════════════════╡\n",
      "│ entre 30 et 50 ans │   414772    │       61.08       │\n",
      "├────────────────────┼─────────────┼───────────────────┤\n",
      "│ plus de 50 ans     │   177784    │       26.18       │\n",
      "├────────────────────┼─────────────┼───────────────────┤\n",
      "│ moins de 30ans     │    86555    │       12.75       │\n",
      "╘════════════════════╧═════════════╧═══════════════════╛\n"
     ]
    }
   ],
   "source": [
    "val_count(df,\"classe d'age\")"
   ]
  },
  {
   "cell_type": "markdown",
   "id": "fdf3ae1e",
   "metadata": {},
   "source": [
    "Les clients agés entre 30 et 50 ans sont plus nombreux dans cette librairie. Ils représentent 61.08% de le clientèle. Ensuite on a ceux qui sont agés de plus de 50 ans qui représentent 26.18% et les moins de 30ans 12.75%"
   ]
  },
  {
   "cell_type": "code",
   "execution_count": 50,
   "id": "ee1377eb",
   "metadata": {},
   "outputs": [],
   "source": [
    "#Définir une fonction pour représenter graphiquement la distribution des variables qualitatives\n",
    "def graph(data,variable):\n",
    "    plt.figure(figsize=(10,6),dpi=90)\n",
    "    sns.countplot(data=data,x=variable,order=data[variable].value_counts(ascending=True).index,palette=\"gist_heat\")\n",
    "    plt.title(f\"Distribution de la variable {variable}\",fontweight=\"bold\")\n",
    "    plt.show()"
   ]
  },
  {
   "cell_type": "code",
   "execution_count": 51,
   "id": "65705e28",
   "metadata": {},
   "outputs": [
    {
     "data": {
      "image/png": "[encoded data removed]",
      "text/plain": [
       "<Figure size 900x540 with 1 Axes>"
      ]
     },
     "metadata": {
      "needs_background": "light"
     },
     "output_type": "display_data"
    }
   ],
   "source": [
    "graph(df,\"categ\")"
   ]
  },
  {
   "cell_type": "code",
   "execution_count": 52,
   "id": "cf671bf5",
   "metadata": {},
   "outputs": [
    {
     "data": {
      "image/png": "[encoded data removed]",
      "text/plain": [
       "<Figure size 900x540 with 1 Axes>"
      ]
     },
     "metadata": {
      "needs_background": "light"
     },
     "output_type": "display_data"
    }
   ],
   "source": [
    "graph(df,\"sex\")"
   ]
  },
  {
   "cell_type": "code",
   "execution_count": 53,
   "id": "66bbd14d",
   "metadata": {},
   "outputs": [
    {
     "data": {
      "image/png": "[encoded data removed]",
      "text/plain": [
       "<Figure size 900x540 with 1 Axes>"
      ]
     },
     "metadata": {
      "needs_background": "light"
     },
     "output_type": "display_data"
    }
   ],
   "source": [
    "graph(df,\"classe d'age\")"
   ]
  },
  {
   "cell_type": "markdown",
   "id": "57d6aebf",
   "metadata": {},
   "source": [
    "### 2.3 Détection des outliers"
   ]
  },
  {
   "cell_type": "code",
   "execution_count": 54,
   "id": "d70e0335",
   "metadata": {},
   "outputs": [],
   "source": [
    "#Définir une fonction pour identifier les outliers\n",
    "def outliers(data,variable):\n",
    "    q1,q3 = np.percentile(data[variable],[25,75])\n",
    "    IQR = q3 - q1\n",
    "    lower = q1 - 1.5*IQR\n",
    "    hupper = q3 + 1.5*IQR\n",
    "    return(data[(data[variable]<lower) | (data[variable]>hupper)])"
   ]
  },
  {
   "cell_type": "code",
   "execution_count": 55,
   "id": "141f02f2",
   "metadata": {},
   "outputs": [
    {
     "data": {
      "text/plain": [
       "42606"
      ]
     },
     "execution_count": 55,
     "metadata": {},
     "output_type": "execute_result"
    }
   ],
   "source": [
    "price_outliers = outliers(df,\"price\")\n",
    "price_outliers.shape[0]"
   ]
  },
  {
   "cell_type": "markdown",
   "id": "d8c6108c",
   "metadata": {},
   "source": [
    "On observe 42606 de produits dont leurs prix dépassent la valeur maximale estimée"
   ]
  },
  {
   "cell_type": "code",
   "execution_count": 56,
   "id": "4b2f76a4",
   "metadata": {},
   "outputs": [
    {
     "data": {
      "text/plain": [
       "17056"
      ]
     },
     "execution_count": 56,
     "metadata": {},
     "output_type": "execute_result"
    }
   ],
   "source": [
    "age_outliers = outliers(df,\"age\")\n",
    "age_outliers.shape[0]"
   ]
  },
  {
   "cell_type": "markdown",
   "id": "7bd12d76",
   "metadata": {},
   "source": [
    "On observe 17056 de clients dont leurs âge dépassent la valeur maximale estimée"
   ]
  },
  {
   "cell_type": "markdown",
   "id": "5b9cb5a8",
   "metadata": {},
   "source": [
    "## 3. Calcul d'indicateurs"
   ]
  },
  {
   "cell_type": "markdown",
   "id": "fa81aae8",
   "metadata": {},
   "source": [
    "**Chiffre d'affaires total au bout de ces trois années**"
   ]
  },
  {
   "cell_type": "code",
   "execution_count": 57,
   "id": "37441d91",
   "metadata": {},
   "outputs": [
    {
     "name": "stdout",
     "output_type": "stream",
     "text": [
      "Le chiffre d'affaire total durant ces trois années est de 11853728.68€\n"
     ]
    }
   ],
   "source": [
    "ca_total = df[\"price\"].sum()\n",
    "print(f\"Le chiffre d'affaire total durant ces trois années est de {ca_total}€\")"
   ]
  },
  {
   "cell_type": "code",
   "execution_count": 58,
   "id": "878ac61f",
   "metadata": {},
   "outputs": [],
   "source": [
    "#Définir une fonction pour représenter graphiquement le chiffre d'affaires selon la variable\n",
    "def graph_ca(data,variable):\n",
    "    plt.figure(figsize=(10,6),dpi=90)\n",
    "    sns.barplot(data=data, x=variable,y=\"price\",palette=\"gist_heat\")\n",
    "    plt.title(f\"Chiffre d'affaire par {variable}\",fontweight=\"bold\")\n",
    "    plt.xlabel(f\"{variable}\",fontweight=\"bold\")\n",
    "    plt.ylabel(\"Chiffre d'affaire\",fontweight=\"bold\")\n",
    "    plt.xticks(rotation=45)\n",
    "    plt.show()"
   ]
  },
  {
   "cell_type": "markdown",
   "id": "049ef6c6",
   "metadata": {},
   "source": [
    "**Chiffre d'affaires annuel**"
   ]
  },
  {
   "cell_type": "code",
   "execution_count": 59,
   "id": "245ecb0d",
   "metadata": {},
   "outputs": [
    {
     "data": {
      "text/html": [
       "<div>\n",
       "<style scoped>\n",
       "    .dataframe tbody tr th:only-of-type {\n",
       "        vertical-align: middle;\n",
       "    }\n",
       "\n",
       "    .dataframe tbody tr th {\n",
       "        vertical-align: top;\n",
       "    }\n",
       "\n",
       "    .dataframe thead th {\n",
       "        text-align: right;\n",
       "    }\n",
       "</style>\n",
       "<table border=\"1\" class=\"dataframe\">\n",
       "  <thead>\n",
       "    <tr style=\"text-align: right;\">\n",
       "      <th></th>\n",
       "      <th>année</th>\n",
       "      <th>price</th>\n",
       "    </tr>\n",
       "  </thead>\n",
       "  <tbody>\n",
       "    <tr>\n",
       "      <th>0</th>\n",
       "      <td>2021</td>\n",
       "      <td>4770826.56</td>\n",
       "    </tr>\n",
       "    <tr>\n",
       "      <th>1</th>\n",
       "      <td>2022</td>\n",
       "      <td>6108681.81</td>\n",
       "    </tr>\n",
       "    <tr>\n",
       "      <th>2</th>\n",
       "      <td>2023</td>\n",
       "      <td>974220.31</td>\n",
       "    </tr>\n",
       "  </tbody>\n",
       "</table>\n",
       "</div>"
      ],
      "text/plain": [
       "   année       price\n",
       "0   2021  4770826.56\n",
       "1   2022  6108681.81\n",
       "2   2023   974220.31"
      ]
     },
     "execution_count": 59,
     "metadata": {},
     "output_type": "execute_result"
    }
   ],
   "source": [
    "ca_annuel = df.groupby(\"année\")[[\"price\"]].sum().reset_index()\n",
    "ca_annuel"
   ]
  },
  {
   "cell_type": "code",
   "execution_count": 60,
   "id": "6e41009c",
   "metadata": {},
   "outputs": [
    {
     "data": {
      "image/png": "[encoded data removed]",
      "text/plain": [
       "<Figure size 900x540 with 1 Axes>"
      ]
     },
     "metadata": {
      "needs_background": "light"
     },
     "output_type": "display_data"
    }
   ],
   "source": [
    "graph_ca(ca_annuel,\"année\")"
   ]
  },
  {
   "cell_type": "raw",
   "id": "0eb10ec5",
   "metadata": {},
   "source": [
    "En 2021 en dix mois d'exercice la librairie a réalisé un chiffre d'affaires de 447.0826,56€ \n",
    "En 2022 pour une année complète elle a réalisé un chiffre d'affaires de 6.108.681,81€\n",
    "En 2023 en deux mois d'exercice elle a réalisé un chiffre d'affaires de 974.220,31€"
   ]
  },
  {
   "cell_type": "markdown",
   "id": "11d794a7",
   "metadata": {},
   "source": [
    "**Chiffre d'affaires mensuel**"
   ]
  },
  {
   "cell_type": "code",
   "execution_count": 61,
   "id": "0b5dad23",
   "metadata": {},
   "outputs": [
    {
     "data": {
      "text/html": [
       "<div>\n",
       "<style scoped>\n",
       "    .dataframe tbody tr th:only-of-type {\n",
       "        vertical-align: middle;\n",
       "    }\n",
       "\n",
       "    .dataframe tbody tr th {\n",
       "        vertical-align: top;\n",
       "    }\n",
       "\n",
       "    .dataframe thead th {\n",
       "        text-align: right;\n",
       "    }\n",
       "</style>\n",
       "<table border=\"1\" class=\"dataframe\">\n",
       "  <thead>\n",
       "    <tr style=\"text-align: right;\">\n",
       "      <th></th>\n",
       "      <th>mois</th>\n",
       "      <th>price</th>\n",
       "    </tr>\n",
       "  </thead>\n",
       "  <tbody>\n",
       "    <tr>\n",
       "      <th>0</th>\n",
       "      <td>2021-03</td>\n",
       "      <td>482440.61</td>\n",
       "    </tr>\n",
       "    <tr>\n",
       "      <th>1</th>\n",
       "      <td>2021-04</td>\n",
       "      <td>476109.30</td>\n",
       "    </tr>\n",
       "    <tr>\n",
       "      <th>2</th>\n",
       "      <td>2021-05</td>\n",
       "      <td>492943.47</td>\n",
       "    </tr>\n",
       "    <tr>\n",
       "      <th>3</th>\n",
       "      <td>2021-06</td>\n",
       "      <td>484088.56</td>\n",
       "    </tr>\n",
       "    <tr>\n",
       "      <th>4</th>\n",
       "      <td>2021-07</td>\n",
       "      <td>482835.40</td>\n",
       "    </tr>\n",
       "  </tbody>\n",
       "</table>\n",
       "</div>"
      ],
      "text/plain": [
       "      mois      price\n",
       "0  2021-03  482440.61\n",
       "1  2021-04  476109.30\n",
       "2  2021-05  492943.47\n",
       "3  2021-06  484088.56\n",
       "4  2021-07  482835.40"
      ]
     },
     "execution_count": 61,
     "metadata": {},
     "output_type": "execute_result"
    }
   ],
   "source": [
    "ca_mensuel = df.groupby(\"mois\")[[\"price\"]].sum().reset_index()\n",
    "ca_mensuel.head()"
   ]
  },
  {
   "cell_type": "code",
   "execution_count": 62,
   "id": "c183eedc",
   "metadata": {},
   "outputs": [
    {
     "data": {
      "image/png": "[encoded data removed]",
      "text/plain": [
       "<Figure size 900x540 with 1 Axes>"
      ]
     },
     "metadata": {
      "needs_background": "light"
     },
     "output_type": "display_data"
    }
   ],
   "source": [
    "graph_ca(ca_mensuel,\"mois\")"
   ]
  },
  {
   "cell_type": "markdown",
   "id": "7f36a6de",
   "metadata": {},
   "source": [
    "On remarque une baisse considérable du chiffre d'affaires en octobre 2021. On va essayer de voir les causes de cette baisse "
   ]
  },
  {
   "cell_type": "code",
   "execution_count": 63,
   "id": "2ce6bd46",
   "metadata": {},
   "outputs": [
    {
     "data": {
      "text/html": [
       "<div>\n",
       "<style scoped>\n",
       "    .dataframe tbody tr th:only-of-type {\n",
       "        vertical-align: middle;\n",
       "    }\n",
       "\n",
       "    .dataframe tbody tr th {\n",
       "        vertical-align: top;\n",
       "    }\n",
       "\n",
       "    .dataframe thead th {\n",
       "        text-align: right;\n",
       "    }\n",
       "</style>\n",
       "<table border=\"1\" class=\"dataframe\">\n",
       "  <thead>\n",
       "    <tr style=\"text-align: right;\">\n",
       "      <th></th>\n",
       "      <th>jour</th>\n",
       "      <th>categ</th>\n",
       "      <th>price</th>\n",
       "    </tr>\n",
       "  </thead>\n",
       "  <tbody>\n",
       "    <tr>\n",
       "      <th>0</th>\n",
       "      <td>2021-10-01</td>\n",
       "      <td>0</td>\n",
       "      <td>6950.50</td>\n",
       "    </tr>\n",
       "    <tr>\n",
       "      <th>1</th>\n",
       "      <td>2021-10-01</td>\n",
       "      <td>1</td>\n",
       "      <td>7003.79</td>\n",
       "    </tr>\n",
       "    <tr>\n",
       "      <th>2</th>\n",
       "      <td>2021-10-01</td>\n",
       "      <td>2</td>\n",
       "      <td>3104.05</td>\n",
       "    </tr>\n",
       "    <tr>\n",
       "      <th>3</th>\n",
       "      <td>2021-10-02</td>\n",
       "      <td>0</td>\n",
       "      <td>7141.01</td>\n",
       "    </tr>\n",
       "    <tr>\n",
       "      <th>4</th>\n",
       "      <td>2021-10-02</td>\n",
       "      <td>2</td>\n",
       "      <td>2041.12</td>\n",
       "    </tr>\n",
       "  </tbody>\n",
       "</table>\n",
       "</div>"
      ],
      "text/plain": [
       "         jour  categ    price\n",
       "0  2021-10-01      0  6950.50\n",
       "1  2021-10-01      1  7003.79\n",
       "2  2021-10-01      2  3104.05\n",
       "3  2021-10-02      0  7141.01\n",
       "4  2021-10-02      2  2041.12"
      ]
     },
     "execution_count": 63,
     "metadata": {},
     "output_type": "execute_result"
    }
   ],
   "source": [
    "#Extraire les données d'octobre 2021\n",
    "df_oct21 = df.loc[(df[\"année\"]==2021) & (df[\"mois\"]==\"2021-10\")]\n",
    "df_oct21 = df_oct21[[\"id_prod\",\"price\",\"categ\",\"jour\"]]\n",
    "df_octjr = df_oct21.groupby([\"jour\",\"categ\"])[\"price\"].sum().reset_index()\n",
    "df_octjr.head()"
   ]
  },
  {
   "cell_type": "code",
   "execution_count": 64,
   "id": "7db7c643",
   "metadata": {},
   "outputs": [
    {
     "data": {
      "image/png": "[encoded data removed]",
      "text/plain": [
       "<Figure size 900x540 with 1 Axes>"
      ]
     },
     "metadata": {
      "needs_background": "light"
     },
     "output_type": "display_data"
    }
   ],
   "source": [
    "plt.figure(figsize=(10,6),dpi=90)\n",
    "sns.barplot(data=df_octjr, x=\"jour\",y=\"price\",hue=\"categ\",palette=\"gist_heat\")\n",
    "plt.title(\"Chiffre d'affaires mensuel au mois d'octobre 2021 par catégorie\",fontweight=\"bold\")\n",
    "plt.xlabel(\"Jours\")\n",
    "plt.ylabel(\"Chiffre d'affaires\")\n",
    "plt.xticks(rotation=45)\n",
    "plt.show()"
   ]
  },
  {
   "cell_type": "markdown",
   "id": "f920ef70",
   "metadata": {},
   "source": [
    "On remarque que pendant plusieurs jours des livre de catégorie 1 n'ont pas été vendus durant ce mois. Peut être qu'il y'a eu rupture d'approvisionnement et ce qui explique la baisse du chiffre d'affaires au courant du mois d'octobre"
   ]
  },
  {
   "cell_type": "markdown",
   "id": "2c6ec793",
   "metadata": {},
   "source": [
    "**Chiffre d'affaires par catégorie de livre**"
   ]
  },
  {
   "cell_type": "code",
   "execution_count": 65,
   "id": "753f4329",
   "metadata": {},
   "outputs": [],
   "source": [
    "#Nombre de livres vendus par catégorie\n",
    "df_livre_categ = df[\"categ\"].value_counts()"
   ]
  },
  {
   "cell_type": "code",
   "execution_count": 66,
   "id": "3b3625fa",
   "metadata": {},
   "outputs": [
    {
     "data": {
      "image/png": "[encoded data removed]",
      "text/plain": [
       "<Figure size 900x540 with 1 Axes>"
      ]
     },
     "metadata": {},
     "output_type": "display_data"
    }
   ],
   "source": [
    "plt.figure(figsize=(10,6),dpi=90)\n",
    "lab = [\"Catégorie0\",\"Catégorie1\",\"Catégorie2\"]\n",
    "explode=(0.01,0.01,0.01)\n",
    "plt.pie(df_livre_categ, labels=lab, autopct=\"%0.0f%%\",explode=explode)\n",
    "plt.title(\"Répartition des livres par catégorie\",fontweight=\"bold\")\n",
    "plt.show()"
   ]
  },
  {
   "cell_type": "code",
   "execution_count": 67,
   "id": "800b71d9",
   "metadata": {},
   "outputs": [
    {
     "data": {
      "text/html": [
       "<div>\n",
       "<style scoped>\n",
       "    .dataframe tbody tr th:only-of-type {\n",
       "        vertical-align: middle;\n",
       "    }\n",
       "\n",
       "    .dataframe tbody tr th {\n",
       "        vertical-align: top;\n",
       "    }\n",
       "\n",
       "    .dataframe thead th {\n",
       "        text-align: right;\n",
       "    }\n",
       "</style>\n",
       "<table border=\"1\" class=\"dataframe\">\n",
       "  <thead>\n",
       "    <tr style=\"text-align: right;\">\n",
       "      <th></th>\n",
       "      <th>categ</th>\n",
       "      <th>price</th>\n",
       "    </tr>\n",
       "  </thead>\n",
       "  <tbody>\n",
       "    <tr>\n",
       "      <th>0</th>\n",
       "      <td>0</td>\n",
       "      <td>4419730.97</td>\n",
       "    </tr>\n",
       "    <tr>\n",
       "      <th>1</th>\n",
       "      <td>1</td>\n",
       "      <td>4653722.69</td>\n",
       "    </tr>\n",
       "    <tr>\n",
       "      <th>2</th>\n",
       "      <td>2</td>\n",
       "      <td>2780275.02</td>\n",
       "    </tr>\n",
       "  </tbody>\n",
       "</table>\n",
       "</div>"
      ],
      "text/plain": [
       "   categ       price\n",
       "0      0  4419730.97\n",
       "1      1  4653722.69\n",
       "2      2  2780275.02"
      ]
     },
     "execution_count": 67,
     "metadata": {},
     "output_type": "execute_result"
    }
   ],
   "source": [
    "#Chiffre d'affaires par catégorie de livre\n",
    "ca_categ = df.groupby(\"categ\")[[\"price\"]].sum().reset_index()\n",
    "ca_categ"
   ]
  },
  {
   "cell_type": "code",
   "execution_count": 68,
   "id": "b831dd80",
   "metadata": {},
   "outputs": [
    {
     "data": {
      "image/png": "[encoded data removed]",
      "text/plain": [
       "<Figure size 900x540 with 1 Axes>"
      ]
     },
     "metadata": {
      "needs_background": "light"
     },
     "output_type": "display_data"
    }
   ],
   "source": [
    "graph_ca(ca_categ,\"categ\")"
   ]
  },
  {
   "cell_type": "markdown",
   "id": "603a6e8a",
   "metadata": {},
   "source": [
    "On remarque que les livres de catégorie 0 ont été le plus vendu 415459 de ventes et ont généré 4.419.730,97€ de chiffre d'affaires. Ceux qui ont rapporté plus de chiffre d'affaire sont les livres de catégorie1 4.653.722,69€ et on été vendu au total 227169 fois"
   ]
  },
  {
   "cell_type": "markdown",
   "id": "3c07b6c4",
   "metadata": {},
   "source": [
    "**Chiffre d'affaires par sexe**"
   ]
  },
  {
   "cell_type": "code",
   "execution_count": 69,
   "id": "c7c2113c",
   "metadata": {},
   "outputs": [
    {
     "data": {
      "text/html": [
       "<div>\n",
       "<style scoped>\n",
       "    .dataframe tbody tr th:only-of-type {\n",
       "        vertical-align: middle;\n",
       "    }\n",
       "\n",
       "    .dataframe tbody tr th {\n",
       "        vertical-align: top;\n",
       "    }\n",
       "\n",
       "    .dataframe thead th {\n",
       "        text-align: right;\n",
       "    }\n",
       "</style>\n",
       "<table border=\"1\" class=\"dataframe\">\n",
       "  <thead>\n",
       "    <tr style=\"text-align: right;\">\n",
       "      <th></th>\n",
       "      <th>sex</th>\n",
       "      <th>price</th>\n",
       "    </tr>\n",
       "  </thead>\n",
       "  <tbody>\n",
       "    <tr>\n",
       "      <th>0</th>\n",
       "      <td>f</td>\n",
       "      <td>5859683.13</td>\n",
       "    </tr>\n",
       "    <tr>\n",
       "      <th>1</th>\n",
       "      <td>m</td>\n",
       "      <td>5994045.55</td>\n",
       "    </tr>\n",
       "  </tbody>\n",
       "</table>\n",
       "</div>"
      ],
      "text/plain": [
       "  sex       price\n",
       "0   f  5859683.13\n",
       "1   m  5994045.55"
      ]
     },
     "execution_count": 69,
     "metadata": {},
     "output_type": "execute_result"
    }
   ],
   "source": [
    "ca_sexe = df.groupby(\"sex\")[[\"price\"]].sum().reset_index()\n",
    "ca_sexe"
   ]
  },
  {
   "cell_type": "code",
   "execution_count": 70,
   "id": "3412d8e7",
   "metadata": {},
   "outputs": [
    {
     "data": {
      "image/png": "[encoded data removed]",
      "text/plain": [
       "<Figure size 900x540 with 1 Axes>"
      ]
     },
     "metadata": {
      "needs_background": "light"
     },
     "output_type": "display_data"
    }
   ],
   "source": [
    "graph_ca(ca_sexe,\"sex\")"
   ]
  },
  {
   "cell_type": "markdown",
   "id": "03d59062",
   "metadata": {},
   "source": [
    "Les hommes comme les femmes génèrent presque autant de chiffre d'affaires"
   ]
  },
  {
   "cell_type": "markdown",
   "id": "a8157293",
   "metadata": {},
   "source": [
    "**Inégalité des revenus**"
   ]
  },
  {
   "cell_type": "code",
   "execution_count": 71,
   "id": "66055135",
   "metadata": {},
   "outputs": [],
   "source": [
    "#Chiffre d'affaires des clients homme et femme\n",
    "ca_client_m = df.query('sex == \"m\"').groupby('client_id')[['price']].sum().reset_index()\n",
    "ca_client_f = df.query('sex == \"f\"').groupby('client_id')[['price']].sum().reset_index()"
   ]
  },
  {
   "cell_type": "code",
   "execution_count": 72,
   "id": "f0e11761",
   "metadata": {},
   "outputs": [],
   "source": [
    "#Fonction pour la courbe de Lorenz\n",
    "def lorenz(X,titre):\n",
    "    Yl = np.cumsum(np.sort(X))/X.sum()*100\n",
    "    Yl = np.append([0],Yl)\n",
    "    Xl = np.arange(Yl.size)/(Yl.size-1)*100\n",
    "    plt.figure(figsize=(10,8),dpi=90)\n",
    "    sns.lineplot([0,100], [0,100], color = \"b\")\n",
    "    sns.lineplot(Xl,Yl, color= \"r\",drawstyle='steps-post')\n",
    "    plt.legend([\"distribution égalitaire\", \"répartition des dépenses\"])\n",
    "    plt.title(titre,fontweight=\"bold\")\n",
    "    plt.xlabel(\"Pourcentage cumulé des effectifs\",fontweight=\"bold\")\n",
    "    plt.ylabel(\"Pourcentage cumulé des caractères\",fontweight=\"bold\")\n",
    "    plt.show()\n",
    "    \n",
    "#Fonction pour le coefficient de Gini\n",
    "def gini(X):\n",
    "    n = len(X)\n",
    "    Xg = np.cumsum(np.sort(X))/X.sum()\n",
    "    AUC = (Xg.sum() - Xg[-1]/2 - Xg[0]/2)/n\n",
    "    S = 0.5 - AUC\n",
    "    gini = 2*S\n",
    "    print(\"Le coefficient de gini est\", gini)"
   ]
  },
  {
   "cell_type": "code",
   "execution_count": 73,
   "id": "d6c1ac83",
   "metadata": {},
   "outputs": [
    {
     "data": {
      "image/png": "[encoded data removed]",
      "text/plain": [
       "<Figure size 900x720 with 1 Axes>"
      ]
     },
     "metadata": {
      "needs_background": "light"
     },
     "output_type": "display_data"
    }
   ],
   "source": [
    "lorenz(ca_client_f[\"price\"],\"Inégalité du chiffre d'affaire entre femmes\")"
   ]
  },
  {
   "cell_type": "code",
   "execution_count": 74,
   "id": "34e0162e",
   "metadata": {},
   "outputs": [
    {
     "name": "stdout",
     "output_type": "stream",
     "text": [
      "Le coefficient de gini est 0.4170815143755633\n"
     ]
    }
   ],
   "source": [
    "gini(ca_client_f[\"price\"])"
   ]
  },
  {
   "cell_type": "code",
   "execution_count": 75,
   "id": "ad889aef",
   "metadata": {},
   "outputs": [
    {
     "data": {
      "image/png": "[encoded data removed]",
      "text/plain": [
       "<Figure size 900x720 with 1 Axes>"
      ]
     },
     "metadata": {
      "needs_background": "light"
     },
     "output_type": "display_data"
    }
   ],
   "source": [
    "lorenz(ca_client_m[\"price\"],\"Inégalité du chiffre d'affaire entre hommes\")"
   ]
  },
  {
   "cell_type": "code",
   "execution_count": 76,
   "id": "23152233",
   "metadata": {},
   "outputs": [
    {
     "name": "stdout",
     "output_type": "stream",
     "text": [
      "Le coefficient de gini est 0.4749827502335201\n"
     ]
    }
   ],
   "source": [
    "gini(ca_client_m[\"price\"])"
   ]
  },
  {
   "cell_type": "markdown",
   "id": "1028104b",
   "metadata": {},
   "source": [
    "**Chiffre d'affaires entre jours ouvrables et weekend**"
   ]
  },
  {
   "cell_type": "code",
   "execution_count": 77,
   "id": "c9a9b09b",
   "metadata": {},
   "outputs": [
    {
     "data": {
      "text/html": [
       "<div>\n",
       "<style scoped>\n",
       "    .dataframe tbody tr th:only-of-type {\n",
       "        vertical-align: middle;\n",
       "    }\n",
       "\n",
       "    .dataframe tbody tr th {\n",
       "        vertical-align: top;\n",
       "    }\n",
       "\n",
       "    .dataframe thead th {\n",
       "        text-align: right;\n",
       "    }\n",
       "</style>\n",
       "<table border=\"1\" class=\"dataframe\">\n",
       "  <thead>\n",
       "    <tr style=\"text-align: right;\">\n",
       "      <th></th>\n",
       "      <th>weekend</th>\n",
       "      <th>price</th>\n",
       "    </tr>\n",
       "  </thead>\n",
       "  <tbody>\n",
       "    <tr>\n",
       "      <th>0</th>\n",
       "      <td>jr_ouvrable</td>\n",
       "      <td>8489112.55</td>\n",
       "    </tr>\n",
       "    <tr>\n",
       "      <th>1</th>\n",
       "      <td>weekend</td>\n",
       "      <td>3364616.13</td>\n",
       "    </tr>\n",
       "  </tbody>\n",
       "</table>\n",
       "</div>"
      ],
      "text/plain": [
       "       weekend       price\n",
       "0  jr_ouvrable  8489112.55\n",
       "1      weekend  3364616.13"
      ]
     },
     "execution_count": 77,
     "metadata": {},
     "output_type": "execute_result"
    }
   ],
   "source": [
    "ca_week = df.groupby(\"weekend\")[[\"price\"]].sum().reset_index()\n",
    "ca_week"
   ]
  },
  {
   "cell_type": "code",
   "execution_count": 78,
   "id": "bdd56500",
   "metadata": {},
   "outputs": [
    {
     "data": {
      "image/png": "[encoded data removed]",
      "text/plain": [
       "<Figure size 900x540 with 1 Axes>"
      ]
     },
     "metadata": {
      "needs_background": "light"
     },
     "output_type": "display_data"
    }
   ],
   "source": [
    "graph_ca(ca_week,\"weekend\")"
   ]
  },
  {
   "cell_type": "code",
   "execution_count": 79,
   "id": "2ac9d4d5",
   "metadata": {},
   "outputs": [
    {
     "data": {
      "text/plain": [
       "2.52"
      ]
     },
     "execution_count": 79,
     "metadata": {},
     "output_type": "execute_result"
    }
   ],
   "source": [
    "coef_multiplicateur = round(ca_week.iloc[0,1]/ ca_week.iloc[1,1],2)\n",
    "coef_multiplicateur"
   ]
  },
  {
   "cell_type": "markdown",
   "id": "64653a91",
   "metadata": {},
   "source": [
    "Le chiffre d'affaires généré sur les jours ouvrables est 2.52 fois supérieur au chiffre d'affaires généré durant le weekend"
   ]
  },
  {
   "cell_type": "markdown",
   "id": "98c5ce00",
   "metadata": {},
   "source": [
    "**Chiffre d'affaires par classe d'age** "
   ]
  },
  {
   "cell_type": "code",
   "execution_count": 80,
   "id": "b92deba0",
   "metadata": {},
   "outputs": [
    {
     "data": {
      "text/html": [
       "<div>\n",
       "<style scoped>\n",
       "    .dataframe tbody tr th:only-of-type {\n",
       "        vertical-align: middle;\n",
       "    }\n",
       "\n",
       "    .dataframe tbody tr th {\n",
       "        vertical-align: top;\n",
       "    }\n",
       "\n",
       "    .dataframe thead th {\n",
       "        text-align: right;\n",
       "    }\n",
       "</style>\n",
       "<table border=\"1\" class=\"dataframe\">\n",
       "  <thead>\n",
       "    <tr style=\"text-align: right;\">\n",
       "      <th></th>\n",
       "      <th>classe d'age</th>\n",
       "      <th>price</th>\n",
       "    </tr>\n",
       "  </thead>\n",
       "  <tbody>\n",
       "    <tr>\n",
       "      <th>0</th>\n",
       "      <td>moins de 30ans</td>\n",
       "      <td>3368133.81</td>\n",
       "    </tr>\n",
       "    <tr>\n",
       "      <th>1</th>\n",
       "      <td>entre 30 et 50 ans</td>\n",
       "      <td>5508352.41</td>\n",
       "    </tr>\n",
       "    <tr>\n",
       "      <th>2</th>\n",
       "      <td>plus de 50 ans</td>\n",
       "      <td>2977242.46</td>\n",
       "    </tr>\n",
       "  </tbody>\n",
       "</table>\n",
       "</div>"
      ],
      "text/plain": [
       "         classe d'age       price\n",
       "0      moins de 30ans  3368133.81\n",
       "1  entre 30 et 50 ans  5508352.41\n",
       "2      plus de 50 ans  2977242.46"
      ]
     },
     "execution_count": 80,
     "metadata": {},
     "output_type": "execute_result"
    }
   ],
   "source": [
    "ca_classe_age = df.groupby(\"classe d'age\")[[\"price\"]].sum().reset_index()\n",
    "ca_classe_age"
   ]
  },
  {
   "cell_type": "code",
   "execution_count": 81,
   "id": "bddd80bd",
   "metadata": {},
   "outputs": [
    {
     "data": {
      "image/png": "[encoded data removed]",
      "text/plain": [
       "<Figure size 900x540 with 1 Axes>"
      ]
     },
     "metadata": {
      "needs_background": "light"
     },
     "output_type": "display_data"
    }
   ],
   "source": [
    "graph_ca(ca_classe_age,\"classe d'age\")"
   ]
  },
  {
   "cell_type": "markdown",
   "id": "1bea9634",
   "metadata": {},
   "source": [
    "Les clients agés entre 30 et 50 ans génèrent plus de chiffre d'affaires viennent ensuite ceux agés de moins de 30 ans"
   ]
  },
  {
   "cell_type": "markdown",
   "id": "ad7bdcc6",
   "metadata": {},
   "source": [
    "**Chiffre d'affaires par clients**"
   ]
  },
  {
   "cell_type": "code",
   "execution_count": 82,
   "id": "d3974b54",
   "metadata": {},
   "outputs": [
    {
     "data": {
      "text/html": [
       "<div>\n",
       "<style scoped>\n",
       "    .dataframe tbody tr th:only-of-type {\n",
       "        vertical-align: middle;\n",
       "    }\n",
       "\n",
       "    .dataframe tbody tr th {\n",
       "        vertical-align: top;\n",
       "    }\n",
       "\n",
       "    .dataframe thead th {\n",
       "        text-align: right;\n",
       "    }\n",
       "</style>\n",
       "<table border=\"1\" class=\"dataframe\">\n",
       "  <thead>\n",
       "    <tr style=\"text-align: right;\">\n",
       "      <th></th>\n",
       "      <th>client_id</th>\n",
       "      <th>price</th>\n",
       "    </tr>\n",
       "  </thead>\n",
       "  <tbody>\n",
       "    <tr>\n",
       "      <th>677</th>\n",
       "      <td>c_1609</td>\n",
       "      <td>324033.35</td>\n",
       "    </tr>\n",
       "    <tr>\n",
       "      <th>4388</th>\n",
       "      <td>c_4958</td>\n",
       "      <td>289760.34</td>\n",
       "    </tr>\n",
       "    <tr>\n",
       "      <th>6337</th>\n",
       "      <td>c_6714</td>\n",
       "      <td>153598.92</td>\n",
       "    </tr>\n",
       "    <tr>\n",
       "      <th>2724</th>\n",
       "      <td>c_3454</td>\n",
       "      <td>113637.93</td>\n",
       "    </tr>\n",
       "    <tr>\n",
       "      <th>2513</th>\n",
       "      <td>c_3263</td>\n",
       "      <td>5276.87</td>\n",
       "    </tr>\n",
       "    <tr>\n",
       "      <th>634</th>\n",
       "      <td>c_1570</td>\n",
       "      <td>5271.62</td>\n",
       "    </tr>\n",
       "    <tr>\n",
       "      <th>2108</th>\n",
       "      <td>c_2899</td>\n",
       "      <td>5214.05</td>\n",
       "    </tr>\n",
       "    <tr>\n",
       "      <th>1268</th>\n",
       "      <td>c_2140</td>\n",
       "      <td>5208.82</td>\n",
       "    </tr>\n",
       "    <tr>\n",
       "      <th>7006</th>\n",
       "      <td>c_7319</td>\n",
       "      <td>5155.77</td>\n",
       "    </tr>\n",
       "    <tr>\n",
       "      <th>7715</th>\n",
       "      <td>c_7959</td>\n",
       "      <td>5085.45</td>\n",
       "    </tr>\n",
       "  </tbody>\n",
       "</table>\n",
       "</div>"
      ],
      "text/plain": [
       "     client_id      price\n",
       "677     c_1609  324033.35\n",
       "4388    c_4958  289760.34\n",
       "6337    c_6714  153598.92\n",
       "2724    c_3454  113637.93\n",
       "2513    c_3263    5276.87\n",
       "634     c_1570    5271.62\n",
       "2108    c_2899    5214.05\n",
       "1268    c_2140    5208.82\n",
       "7006    c_7319    5155.77\n",
       "7715    c_7959    5085.45"
      ]
     },
     "execution_count": 82,
     "metadata": {},
     "output_type": "execute_result"
    }
   ],
   "source": [
    "ca_client = df.groupby(\"client_id\")[[\"price\"]].sum().reset_index()\n",
    "ca_client.nlargest(10,\"price\")"
   ]
  },
  {
   "cell_type": "markdown",
   "id": "baeab82c",
   "metadata": {},
   "source": [
    "On remarque quatre clients qui se démarquent carrément des autres en termes de chiffre d'affaires,certainement ce sont des clients professionnels. Appelons les clients B2B (Business to Business) et les autres B2C (Business to Costumers). "
   ]
  },
  {
   "cell_type": "code",
   "execution_count": 83,
   "id": "7b06ea37",
   "metadata": {},
   "outputs": [
    {
     "name": "stdout",
     "output_type": "stream",
     "text": [
      "le nombre de transactions réalisés par ces derniers est de 46634\n",
      "le chiffre d'affaires généré par ces clients est de 881030.54 €\n"
     ]
    }
   ],
   "source": [
    "#Dataframe des clients B2B\n",
    "clients_pro = [\"c_1609\",\"c_4958\",\"c_6714\",\"c_3454\"]\n",
    "B2B = df[df[\"client_id\"].isin(clients_pro)]\n",
    "#Nombre de transactions effectués par les clients B2B\n",
    "B2B.shape[0]\n",
    "#Le chiffre d'affaires généré par ces clients particuliers\n",
    "B2B_ca = B2B[\"price\"].sum()\n",
    "print(\"le nombre de transactions réalisés par ces derniers est de\",B2B.shape[0])\n",
    "print(\"le chiffre d'affaires généré par ces clients est de\",B2B_ca,\"€\")"
   ]
  },
  {
   "cell_type": "code",
   "execution_count": 84,
   "id": "5219bdcb",
   "metadata": {},
   "outputs": [],
   "source": [
    "#Dataframe des clients B2C\n",
    "B2C = df[~df[\"client_id\"].isin(clients_pro)]"
   ]
  },
  {
   "cell_type": "code",
   "execution_count": 85,
   "id": "be1d63e6",
   "metadata": {},
   "outputs": [
    {
     "data": {
      "image/png": "[encoded data removed]",
      "text/plain": [
       "<Figure size 900x720 with 1 Axes>"
      ]
     },
     "metadata": {
      "needs_background": "light"
     },
     "output_type": "display_data"
    }
   ],
   "source": [
    "plt.figure(figsize=(10,8),dpi=90)\n",
    "sns.countplot(data=B2B, x=\"client_id\",hue=\"categ\",palette=\"gist_heat\")\n",
    "plt.title(\"Répartition des achats des clients B2B selon la catégorie\")\n",
    "plt.show()"
   ]
  },
  {
   "cell_type": "code",
   "execution_count": 86,
   "id": "7bd19d8b",
   "metadata": {},
   "outputs": [
    {
     "data": {
      "image/png": "[encoded data removed]",
      "text/plain": [
       "<Figure size 900x720 with 1 Axes>"
      ]
     },
     "metadata": {
      "needs_background": "light"
     },
     "output_type": "display_data"
    }
   ],
   "source": [
    "plt.figure(figsize=(10,8),dpi=90)\n",
    "sns.boxplot(data=B2B,x=\"client_id\",y=\"price\",palette=\"gist_heat\")\n",
    "plt.title(\"Répartition du chiffre d'affaires entre clients B2B\",fontweight='bold')\n",
    "plt.show()"
   ]
  },
  {
   "cell_type": "code",
   "execution_count": 87,
   "id": "97ad0333",
   "metadata": {},
   "outputs": [
    {
     "data": {
      "text/plain": [
       "client_id\n",
       "c_1609    12.713173\n",
       "c_3454    16.785514\n",
       "c_4958    55.776774\n",
       "c_6714    16.730086\n",
       "Name: price, dtype: float64"
      ]
     },
     "execution_count": 87,
     "metadata": {},
     "output_type": "execute_result"
    }
   ],
   "source": [
    "B2B.groupby(\"client_id\")[\"price\"].mean()"
   ]
  },
  {
   "cell_type": "markdown",
   "id": "e03054f5",
   "metadata": {},
   "source": [
    "Le client c_4958 a généré plus de chiffre d'affaires 56€ en moyenne"
   ]
  },
  {
   "cell_type": "code",
   "execution_count": 88,
   "id": "a312909c",
   "metadata": {},
   "outputs": [
    {
     "data": {
      "image/png": "[encoded data removed]",
      "text/plain": [
       "<Figure size 900x720 with 1 Axes>"
      ]
     },
     "metadata": {},
     "output_type": "display_data"
    }
   ],
   "source": [
    "#Répartition du chiffre d'affaires entre les clients B2C et les clients B2B\n",
    "plt.figure(figsize=(10,8),dpi=90)\n",
    "lab = [\"B2C\",\"B2B\"]\n",
    "explode=(0.01,0.01)\n",
    "plt.pie((ca_total-B2B_ca,B2B_ca),labels=lab,autopct=\"%0.0f%%\",explode=explode)\n",
    "plt.title(\"Répartition du chiffre d'affaires selon les types de clients\",fontweight=\"bold\")\n",
    "plt.show()"
   ]
  },
  {
   "cell_type": "markdown",
   "id": "9247ca59",
   "metadata": {},
   "source": [
    "Ces quatre clients B2B ont effectué 46634 de transactions et généré 881030.54€ de chiffre d'affaires ce qui représentent 7% du chiffre d'affaires totale"
   ]
  },
  {
   "cell_type": "markdown",
   "id": "ebfbdfef",
   "metadata": {},
   "source": [
    "**Panier moyen selon l'age des clients**"
   ]
  },
  {
   "cell_type": "code",
   "execution_count": 89,
   "id": "a5474475",
   "metadata": {},
   "outputs": [
    {
     "data": {
      "text/html": [
       "<div>\n",
       "<style scoped>\n",
       "    .dataframe tbody tr th:only-of-type {\n",
       "        vertical-align: middle;\n",
       "    }\n",
       "\n",
       "    .dataframe tbody tr th {\n",
       "        vertical-align: top;\n",
       "    }\n",
       "\n",
       "    .dataframe thead tr th {\n",
       "        text-align: left;\n",
       "    }\n",
       "</style>\n",
       "<table border=\"1\" class=\"dataframe\">\n",
       "  <thead>\n",
       "    <tr>\n",
       "      <th></th>\n",
       "      <th>age</th>\n",
       "      <th>panier_moyen</th>\n",
       "    </tr>\n",
       "    <tr>\n",
       "      <th></th>\n",
       "      <th></th>\n",
       "      <th></th>\n",
       "    </tr>\n",
       "  </thead>\n",
       "  <tbody>\n",
       "    <tr>\n",
       "      <th>0</th>\n",
       "      <td>17</td>\n",
       "      <td>40.651361</td>\n",
       "    </tr>\n",
       "    <tr>\n",
       "      <th>1</th>\n",
       "      <td>18</td>\n",
       "      <td>39.912041</td>\n",
       "    </tr>\n",
       "    <tr>\n",
       "      <th>2</th>\n",
       "      <td>19</td>\n",
       "      <td>41.031823</td>\n",
       "    </tr>\n",
       "    <tr>\n",
       "      <th>3</th>\n",
       "      <td>20</td>\n",
       "      <td>39.978619</td>\n",
       "    </tr>\n",
       "    <tr>\n",
       "      <th>4</th>\n",
       "      <td>21</td>\n",
       "      <td>39.974855</td>\n",
       "    </tr>\n",
       "  </tbody>\n",
       "</table>\n",
       "</div>"
      ],
      "text/plain": [
       "  age panier_moyen\n",
       "                  \n",
       "0  17    40.651361\n",
       "1  18    39.912041\n",
       "2  19    41.031823\n",
       "3  20    39.978619\n",
       "4  21    39.974855"
      ]
     },
     "execution_count": 89,
     "metadata": {},
     "output_type": "execute_result"
    }
   ],
   "source": [
    "#Calcul du panier moyen selon l'age des clients\n",
    "df_age_panier=df.groupby(\"age\").agg({\"price\":[\"sum\"], \"client_id\": [\"count\"]}).reset_index()\n",
    "df_age_panier[\"panier_moyen\"]=df_age_panier.iloc[:,1]/df_age_panier.iloc[:,2]\n",
    "df_panier_moyen=df_age_panier[[\"age\",\"panier_moyen\"]]\n",
    "df_panier_moyen.head()"
   ]
  },
  {
   "cell_type": "markdown",
   "id": "96705b7b",
   "metadata": {},
   "source": [
    "## 4. Analyse bivariée"
   ]
  },
  {
   "cell_type": "markdown",
   "id": "c32b35bc",
   "metadata": {},
   "source": [
    "**Entre le sexe et la catégorie des livres**"
   ]
  },
  {
   "cell_type": "code",
   "execution_count": 90,
   "id": "67d02a44",
   "metadata": {},
   "outputs": [],
   "source": [
    "#Fonction mettant en relation les deux variables qualitatives\n",
    "def graph_cross(data,variable):\n",
    "    plt.figure(figsize=(10,6),dpi=90)\n",
    "    sns.countplot(data=data, x=variable, hue=\"categ\",palette=\"gist_heat\")\n",
    "    plt.title(f\"Distribution de la variable {variable} selon la catégorie du livre\",fontweight=\"bold\")\n",
    "    plt.show()"
   ]
  },
  {
   "cell_type": "code",
   "execution_count": 91,
   "id": "83eecb83",
   "metadata": {},
   "outputs": [
    {
     "data": {
      "image/png": "[encoded data removed]",
      "text/plain": [
       "<Figure size 900x540 with 1 Axes>"
      ]
     },
     "metadata": {
      "needs_background": "light"
     },
     "output_type": "display_data"
    }
   ],
   "source": [
    "#Table de contingence\n",
    "contingence_sex_categ = pd.crosstab(df[\"categ\"],df[\"sex\"])\n",
    "#Relation graphique entre le sexe et la catégorie des livres\n",
    "graph_cross(df,\"sex\")"
   ]
  },
  {
   "cell_type": "markdown",
   "id": "e1fa089e",
   "metadata": {},
   "source": [
    "**Entre la classe d'age et la catégorie des livres**"
   ]
  },
  {
   "cell_type": "code",
   "execution_count": 92,
   "id": "65d0cac2",
   "metadata": {},
   "outputs": [
    {
     "data": {
      "image/png": "[encoded data removed]",
      "text/plain": [
       "<Figure size 900x540 with 1 Axes>"
      ]
     },
     "metadata": {
      "needs_background": "light"
     },
     "output_type": "display_data"
    }
   ],
   "source": [
    "#Table de contingence \n",
    "contingence_classeage_categ = pd.crosstab(df[\"categ\"],df[\"classe d'age\"])\n",
    "#Relation graphique entre la classe d'age et la catégorie des livres\n",
    "graph_cross(df,\"classe d'age\")"
   ]
  },
  {
   "cell_type": "markdown",
   "id": "bbff3de6",
   "metadata": {},
   "source": [
    "**Entre l'age et le chiffre d'affaires**"
   ]
  },
  {
   "cell_type": "code",
   "execution_count": 93,
   "id": "6fd3ef5b",
   "metadata": {},
   "outputs": [],
   "source": [
    "def graph_corr(data,variable):\n",
    "    plt.figure(figsize=(10,6),dpi=90)\n",
    "    sns.scatterplot(data=data, x=\"age\", y=variable)\n",
    "    plt.title(f\"Relation entre l'age et la variable {variable} \",fontweight=\"bold\")\n",
    "    plt.show()"
   ]
  },
  {
   "cell_type": "markdown",
   "id": "2769b235",
   "metadata": {},
   "source": [
    "**Entre l'age et le prix**"
   ]
  },
  {
   "cell_type": "code",
   "execution_count": 94,
   "id": "b0ee896b",
   "metadata": {},
   "outputs": [
    {
     "data": {
      "image/png": "[encoded data removed]",
      "text/plain": [
       "<Figure size 900x540 with 1 Axes>"
      ]
     },
     "metadata": {
      "needs_background": "light"
     },
     "output_type": "display_data"
    }
   ],
   "source": [
    "df_age_prix=df.groupby(\"age\")[\"price\"].sum().reset_index()\n",
    "graph_corr(df_age_prix,\"price\")"
   ]
  },
  {
   "cell_type": "markdown",
   "id": "9fed37c8",
   "metadata": {},
   "source": [
    "**Entre l'age et le panier moyen**"
   ]
  },
  {
   "cell_type": "code",
   "execution_count": 95,
   "id": "78d319f4",
   "metadata": {},
   "outputs": [
    {
     "data": {
      "image/png": "[encoded data removed]",
      "text/plain": [
       "<Figure size 900x540 with 1 Axes>"
      ]
     },
     "metadata": {
      "needs_background": "light"
     },
     "output_type": "display_data"
    }
   ],
   "source": [
    "graph_corr(df_panier_moyen,\"panier_moyen\")"
   ]
  },
  {
   "cell_type": "markdown",
   "id": "1675eed1",
   "metadata": {},
   "source": [
    "**Entre le prix et la catégorie des livres**"
   ]
  },
  {
   "cell_type": "code",
   "execution_count": 96,
   "id": "bd65f600",
   "metadata": {},
   "outputs": [
    {
     "data": {
      "image/png": "[encoded data removed]",
      "text/plain": [
       "<Figure size 900x540 with 1 Axes>"
      ]
     },
     "metadata": {
      "needs_background": "light"
     },
     "output_type": "display_data"
    }
   ],
   "source": [
    "plt.figure(figsize=(10,6),dpi=90)\n",
    "sns.boxplot(data=df,x=\"categ\",y=\"price\", palette=\"gist_heat\")\n",
    "plt.title(\"Distribution du prix selon la catégorie des livres\",fontweight=\"bold\")\n",
    "plt.xlabel(\"Catégorie des livres\",fontweight=\"bold\")\n",
    "plt.ylabel(\"Prix\",fontweight=\"bold\")\n",
    "plt.show()"
   ]
  },
  {
   "cell_type": "code",
   "execution_count": 97,
   "id": "c4ee041e",
   "metadata": {},
   "outputs": [
    {
     "data": {
      "text/plain": [
       "categ\n",
       "0    10.638188\n",
       "1    20.485730\n",
       "2    76.207412\n",
       "Name: price, dtype: float64"
      ]
     },
     "execution_count": 97,
     "metadata": {},
     "output_type": "execute_result"
    }
   ],
   "source": [
    "df.groupby(\"categ\")[\"price\"].mean()"
   ]
  },
  {
   "cell_type": "markdown",
   "id": "3112985c",
   "metadata": {},
   "source": [
    "**Entre l'age et la catégorie des livres**"
   ]
  },
  {
   "cell_type": "code",
   "execution_count": 98,
   "id": "73ead93e",
   "metadata": {},
   "outputs": [
    {
     "data": {
      "image/png": "[encoded data removed]",
      "text/plain": [
       "<Figure size 900x540 with 1 Axes>"
      ]
     },
     "metadata": {
      "needs_background": "light"
     },
     "output_type": "display_data"
    }
   ],
   "source": [
    "plt.figure(figsize=(10,6),dpi=90)\n",
    "sns.boxplot(data=df,x=\"categ\",y=\"age\", palette=\"gist_heat\")\n",
    "plt.title(\"Distribution de l'age selon la catégorie des livres\",fontweight=\"bold\")\n",
    "plt.xlabel(\"Catégorie des livres\",fontweight=\"bold\")\n",
    "plt.ylabel(\"Age\",fontweight=\"bold\")\n",
    "plt.show()"
   ]
  },
  {
   "cell_type": "code",
   "execution_count": 99,
   "id": "307a4905",
   "metadata": {},
   "outputs": [
    {
     "data": {
      "text/plain": [
       "categ\n",
       "0    43.549250\n",
       "1    47.353332\n",
       "2    25.634761\n",
       "Name: age, dtype: float64"
      ]
     },
     "execution_count": 99,
     "metadata": {},
     "output_type": "execute_result"
    }
   ],
   "source": [
    "df.groupby(\"categ\")[\"age\"].mean()"
   ]
  },
  {
   "cell_type": "markdown",
   "id": "44ce7a0c",
   "metadata": {},
   "source": [
    "## 5. Tests statistiques"
   ]
  },
  {
   "cell_type": "markdown",
   "id": "ac565695",
   "metadata": {},
   "source": [
    "**Entre variables quantitatives**"
   ]
  },
  {
   "cell_type": "raw",
   "id": "74e63c6d",
   "metadata": {},
   "source": [
    "Test de correlation de Pearson\n",
    "\n",
    "  H0: il n'y a pas de corrélation entre le poids et la taille \n",
    "  H1: il y a pas de corrélation entre le poids et la taille "
   ]
  },
  {
   "cell_type": "code",
   "execution_count": 100,
   "id": "c846017b",
   "metadata": {},
   "outputs": [
    {
     "name": "stdout",
     "output_type": "stream",
     "text": [
      "La p_values est de 0.0\n",
      "On rejette l'hypothèse nulle, il y a une corrélation entre l'age et le prix \n"
     ]
    }
   ],
   "source": [
    "from scipy.stats import pearsonr\n",
    "\n",
    "r,p = pearsonr(df[\"age\"],df[\"price\"])\n",
    "\n",
    "print(\"La p_values est de\",p)\n",
    "if p <0.05:\n",
    "    print(\"On rejette l'hypothèse nulle, il y a une corrélation entre l'age et le prix \")\n",
    "else:\n",
    "    print(\"On accepte l'hypothèse nulle, il n'y a pas de corrélations entres l'age et le prix\")"
   ]
  },
  {
   "cell_type": "code",
   "execution_count": 101,
   "id": "a1d292d1",
   "metadata": {},
   "outputs": [
    {
     "name": "stdout",
     "output_type": "stream",
     "text": [
      "La p_values est de 1.6318950954767124e-07\n",
      "On rejette l'hypothèse nulle, il y a une corrélation entre l'age et le panier moyen \n"
     ]
    }
   ],
   "source": [
    "from scipy.stats import pearsonr\n",
    "\n",
    "r,p = pearsonr(df_panier_moyen[\"age\"],df_panier_moyen[\"panier_moyen\"])\n",
    "\n",
    "print(\"La p_values est de\",p)\n",
    "if p <0.05:\n",
    "    print(\"On rejette l'hypothèse nulle, il y a une corrélation entre l'age et le panier moyen \")\n",
    "else:\n",
    "    print(\"On accepte l'hypothèse nulle, il n'y a pas de corrélations entres l'age et le panier moyen\")"
   ]
  },
  {
   "cell_type": "markdown",
   "id": "5ea5f7cd",
   "metadata": {},
   "source": [
    "**Entre variables qualitatives**"
   ]
  },
  {
   "cell_type": "raw",
   "id": "b68638c0",
   "metadata": {},
   "source": [
    "Test de Khi2\n",
    "\n",
    "  H0: il n'y a pas de lien entre les deux variables\n",
    "  H1: il y a pas un lien entre les deux variables"
   ]
  },
  {
   "cell_type": "code",
   "execution_count": 102,
   "id": "ede56a5e",
   "metadata": {},
   "outputs": [
    {
     "name": "stdout",
     "output_type": "stream",
     "text": [
      "La p_values est de 1.13109805970906e-32\n",
      "On rejette l'hypothèse nulle, il y a un lien entre le sexe la catégorie des livres\n"
     ]
    }
   ],
   "source": [
    "from scipy.stats import chi2_contingency\n",
    "\n",
    "khi2_obs,p,ddl,effectifs_théorique = chi2_contingency(contingence_sex_categ)\n",
    "\n",
    "\n",
    "print(\"La p_values est de\",p)\n",
    "if p <0.05:\n",
    "    print(\"On rejette l'hypothèse nulle, il y a un lien entre le sexe la catégorie des livres\")\n",
    "else:\n",
    "    print(\"On accepte l'hypothèse nulle, il n'y a pas de lien entres le sexe et la catégorie des livres\")"
   ]
  },
  {
   "cell_type": "code",
   "execution_count": 103,
   "id": "50da4972",
   "metadata": {},
   "outputs": [],
   "source": [
    "def intensité(data,variable1,variable2):\n",
    "    l = len(df[variable1].unique())\n",
    "    c = len(df[variable2].unique())\n",
    "    N = data.shape[0]\n",
    "    mini = min(l-1,c-1)\n",
    "    V = np.sqrt(khi2_obs/N*mini)\n",
    "    T=np.sqrt(khi2_obs/N*(l-1)*(c-1))\n",
    "    print(f\"Le V de Cramer est de {V}\")\n",
    "    print(f\"Le T de Tschuprow est de {T}\")"
   ]
  },
  {
   "cell_type": "code",
   "execution_count": 104,
   "id": "90f2c0d7",
   "metadata": {},
   "outputs": [
    {
     "name": "stdout",
     "output_type": "stream",
     "text": [
      "Le V de Cramer est de 0.01471851857198826\n",
      "Le T de Tschuprow est de 0.020815128582546076\n"
     ]
    }
   ],
   "source": [
    "intensité(df,\"sex\",\"categ\")"
   ]
  },
  {
   "cell_type": "code",
   "execution_count": 105,
   "id": "b74ca2b9",
   "metadata": {},
   "outputs": [
    {
     "name": "stdout",
     "output_type": "stream",
     "text": [
      "La p_values est de 0.0\n",
      "On rejette l'hypothèse nulle, il y a un lien entre la classe d'age la catégorie des livres\n"
     ]
    }
   ],
   "source": [
    "from scipy.stats import chi2_contingency\n",
    "\n",
    "khi2_obs,p,ddl,effectifs_théorique = chi2_contingency(contingence_classeage_categ)\n",
    "\n",
    "\n",
    "print(\"La p_values est de\",p)\n",
    "if p <0.05:\n",
    "    print(\"On rejette l'hypothèse nulle, il y a un lien entre la classe d'age la catégorie des livres\")\n",
    "else:\n",
    "    print(\"On accepte l'hypothèse nulle, il n'y a pas de lien entres la classe d'age et la catégorie des livres\")"
   ]
  },
  {
   "cell_type": "code",
   "execution_count": 106,
   "id": "b2d73270",
   "metadata": {},
   "outputs": [
    {
     "name": "stdout",
     "output_type": "stream",
     "text": [
      "Le V de Cramer est de 0.9001353814994827\n",
      "Le T de Tschuprow est de 1.2729836644884485\n"
     ]
    }
   ],
   "source": [
    "intensité(df,\"classe d'age\",\"categ\")"
   ]
  },
  {
   "cell_type": "markdown",
   "id": "585ef5d0",
   "metadata": {},
   "source": [
    "**Entre variable qualitative et variable quantitative**"
   ]
  },
  {
   "cell_type": "markdown",
   "id": "a6eeeec0",
   "metadata": {},
   "source": [
    "**Entre le prix et la catégrie des livres**"
   ]
  },
  {
   "cell_type": "code",
   "execution_count": 107,
   "id": "4bf12b77",
   "metadata": {},
   "outputs": [],
   "source": [
    "groupe = df[\"categ\"].unique()\n",
    "df_anova = {categorie:df[\"price\"][df[\"categ\"]==categorie] for categorie in groupe}"
   ]
  },
  {
   "cell_type": "raw",
   "id": "2f207c7d",
   "metadata": {},
   "source": [
    "ANOVA\n",
    "\n",
    "  H0: il n'y a pas de différence de prix moyen entre les catégories de livres\n",
    "  H1: le prix moyen diffère pour au moins une catégorie de livres "
   ]
  },
  {
   "cell_type": "code",
   "execution_count": 108,
   "id": "e9c8288a",
   "metadata": {},
   "outputs": [
    {
     "name": "stdout",
     "output_type": "stream",
     "text": [
      "La p_values est de 0.0\n",
      "On rejette l'hypothèse nulle, le prix moyen diffère pour au moins une catégorie de livres\n"
     ]
    }
   ],
   "source": [
    "from scipy.stats import f_oneway\n",
    "\n",
    "f,p = f_oneway(df_anova[0],df_anova[1],df_anova[2])\n",
    "\n",
    "print(\"La p_values est de\",p)\n",
    "if p <0.05:\n",
    "    print(\"On rejette l'hypothèse nulle, le prix moyen diffère pour au moins une catégorie de livres\")\n",
    "else:\n",
    "    print(\"On accepte l'hypothèse nulle, il n'y a pas de différence de prix moyen entre les catégories de livres\")"
   ]
  },
  {
   "cell_type": "markdown",
   "id": "65ec1ba2",
   "metadata": {},
   "source": [
    "**Vérification des hypothèses pour valider le test**"
   ]
  },
  {
   "cell_type": "markdown",
   "id": "20e9e9b3",
   "metadata": {},
   "source": [
    "Il faudra vérifier la **normalité** de la variable quantitative et **l'égalité** de la variance entre les groupes avant de valider le test d'**ANOVA**"
   ]
  },
  {
   "cell_type": "raw",
   "id": "ea1a7fd4",
   "metadata": {},
   "source": [
    "Test de Shapiro-Wilk\n",
    "\n",
    "  H0: la variable suit une distribution normale \n",
    "  H1: la variable ne suit pas une distribution normale "
   ]
  },
  {
   "cell_type": "code",
   "execution_count": 109,
   "id": "12bbeccf",
   "metadata": {},
   "outputs": [
    {
     "name": "stdout",
     "output_type": "stream",
     "text": [
      "La p_values est de 0.0\n",
      "On rejette l'hypothèse nulle, la variable ne suit pas une distribution normale\n"
     ]
    }
   ],
   "source": [
    "from scipy.stats import shapiro\n",
    "\n",
    "stat,p = shapiro(df[\"price\"])\n",
    "\n",
    "print(\"La p_values est de\",p)\n",
    "if p <0.05:\n",
    "    print(\"On rejette l'hypothèse nulle, la variable ne suit pas une distribution normale\")\n",
    "else:\n",
    "    print(\"On accepte l'hypothèse nulle, la variable suit une distribution normale\")"
   ]
  },
  {
   "cell_type": "code",
   "execution_count": 110,
   "id": "97a2b215",
   "metadata": {},
   "outputs": [
    {
     "data": {
      "image/png": "[encoded data removed]",
      "text/plain": [
       "<Figure size 432x288 with 1 Axes>"
      ]
     },
     "metadata": {
      "needs_background": "light"
     },
     "output_type": "display_data"
    }
   ],
   "source": [
    "import statsmodels.api as sm\n",
    "\n",
    "sm.qqplot(df[\"price\"], line='45')\n",
    "plt.show()"
   ]
  },
  {
   "cell_type": "raw",
   "id": "cfa8c819",
   "metadata": {},
   "source": [
    "Test de Levene\n",
    "\n",
    "H0 : il y'a homogénéité des variances entre les catégories de livres\n",
    "H1 : il n y'a pas d'homogénéité des variances entre les catégories de livres"
   ]
  },
  {
   "cell_type": "code",
   "execution_count": 111,
   "id": "6fd891b9",
   "metadata": {},
   "outputs": [
    {
     "name": "stdout",
     "output_type": "stream",
     "text": [
      "La p_values est de 0.0\n",
      "On rejette l'hypothèse nulle, il n y'a pas une homogénéité des variances entre les catégories de livres\n"
     ]
    }
   ],
   "source": [
    "from scipy.stats import levene\n",
    "\n",
    "f,p = levene(df_anova[0],df_anova[1],df_anova[2])\n",
    "\n",
    "print(\"La p_values est de\",p)\n",
    "if p <0.05:\n",
    "    print(\"On rejette l'hypothèse nulle, il n y'a pas une homogénéité des variances entre les catégories de livres\")\n",
    "else:\n",
    "    print(\"On accepte l'hypothèse nulle, il y a une homogénéité des variances entre les catégories de livres\")"
   ]
  },
  {
   "cell_type": "markdown",
   "id": "eb5fb1b3",
   "metadata": {},
   "source": [
    "**Conclusiosn :** La normalité et l'égalité des varaiances ne sont pas vérifées donc on ne peut pas valider le test de ANOVA. Par conséquent un va utiliser un test non paramétrique"
   ]
  },
  {
   "cell_type": "raw",
   "id": "e898d0b5",
   "metadata": {},
   "source": [
    "Test de Kruskall-Wallis\n",
    "\n",
    "  H0: il n'y a pas de différence de prix médian entre les catégories de livres\n",
    "  H1: le prix médian diffère pour au moins une catégorie de livres "
   ]
  },
  {
   "cell_type": "code",
   "execution_count": 112,
   "id": "85f1c266",
   "metadata": {},
   "outputs": [
    {
     "name": "stdout",
     "output_type": "stream",
     "text": [
      "La p_values est de 0.0\n",
      "On rejette l'hypothèse nulle, le prix médian diffère pour au moins une catégorie de livres\n"
     ]
    }
   ],
   "source": [
    "from scipy.stats import kruskal\n",
    "\n",
    "f,p = kruskal(df_anova[0],df_anova[1],df_anova[2])\n",
    "\n",
    "print(\"La p_values est de\",p)\n",
    "if p <0.05:\n",
    "    print(\"On rejette l'hypothèse nulle, le prix médian diffère pour au moins une catégorie de livres\")\n",
    "else:\n",
    "    print(\"On accepte l'hypothèse nulle, il n'y a pas de différence de prix médian entre les catégories de livres\")"
   ]
  },
  {
   "cell_type": "markdown",
   "id": "702c5640",
   "metadata": {},
   "source": [
    "**Entre l'age et la catégrie des livres**"
   ]
  },
  {
   "cell_type": "code",
   "execution_count": 113,
   "id": "17f24478",
   "metadata": {},
   "outputs": [],
   "source": [
    "df_anova2 = {categorie:df[\"age\"][df[\"categ\"]==categorie] for categorie in groupe}"
   ]
  },
  {
   "cell_type": "raw",
   "id": "f1092288",
   "metadata": {},
   "source": [
    "ANOVA\n",
    "\n",
    "  H0: il n'y a pas de différence d'âge moyen entre les catégories de livres\n",
    "  H1: l'âge moyen diffère pour au moins une catégorie de livres "
   ]
  },
  {
   "cell_type": "code",
   "execution_count": 114,
   "id": "3ffd32d9",
   "metadata": {},
   "outputs": [
    {
     "name": "stdout",
     "output_type": "stream",
     "text": [
      "La p_values est de 0.0\n",
      "On rejette l'hypothèse nulle, l'âge moyen diffère pour au moins une catégorie de livres\n"
     ]
    }
   ],
   "source": [
    "from scipy.stats import f_oneway\n",
    "\n",
    "f,p = f_oneway(df_anova2[0],df_anova2[1],df_anova2[2])\n",
    "\n",
    "print(\"La p_values est de\",p)\n",
    "if p <0.05:\n",
    "    print(\"On rejette l'hypothèse nulle, l'âge moyen diffère pour au moins une catégorie de livres\")\n",
    "else:\n",
    "    print(\"On accepte l'hypothèse nulle, il n'y a pas de différence d'âge moyen entre les catégories de livres\")"
   ]
  },
  {
   "cell_type": "markdown",
   "id": "f3f8eeec",
   "metadata": {},
   "source": [
    "**Vérification des hypothèses pour valider le test**"
   ]
  },
  {
   "cell_type": "markdown",
   "id": "42e6d889",
   "metadata": {},
   "source": [
    "Il faudra vérifier la **normalité** de la variable quantitative et **l'égalité** de la variance entre les groupes avant de valider le test d'**ANOVA**"
   ]
  },
  {
   "cell_type": "raw",
   "id": "a6f9f867",
   "metadata": {},
   "source": [
    "Test de Shapiro-Wilk\n",
    "\n",
    "  H0: la variable suit une distribution normale \n",
    "  H1: la variable ne suit pas une distribution normale "
   ]
  },
  {
   "cell_type": "code",
   "execution_count": 115,
   "id": "d0bde79d",
   "metadata": {},
   "outputs": [
    {
     "name": "stdout",
     "output_type": "stream",
     "text": [
      "La p_values est de 0.0\n",
      "On rejette l'hypothèse nulle, la variable ne suit pas une distribution normale\n"
     ]
    }
   ],
   "source": [
    "from scipy.stats import shapiro\n",
    "\n",
    "stat,p = shapiro(df[\"age\"])\n",
    "\n",
    "print(\"La p_values est de\",p)\n",
    "if p <0.05:\n",
    "    print(\"On rejette l'hypothèse nulle, la variable ne suit pas une distribution normale\")\n",
    "else:\n",
    "    print(\"On accepte l'hypothèse nulle, la variable suit une distribution normale\")"
   ]
  },
  {
   "cell_type": "code",
   "execution_count": 116,
   "id": "72fd2f3e",
   "metadata": {},
   "outputs": [
    {
     "data": {
      "image/png": "[encoded data removed]",
      "text/plain": [
       "<Figure size 432x288 with 1 Axes>"
      ]
     },
     "metadata": {
      "needs_background": "light"
     },
     "output_type": "display_data"
    }
   ],
   "source": [
    "import statsmodels.api as sm\n",
    "\n",
    "sm.qqplot(df[\"age\"], line='45')\n",
    "plt.show()"
   ]
  },
  {
   "cell_type": "raw",
   "id": "f715ea8e",
   "metadata": {},
   "source": [
    "Test de Levene\n",
    "\n",
    "H0 : il y'a homogénéité des variances entre les catégories de livres\n",
    "H1 : il n'y a pas d'homogénéité des variances entre les catégories de livres"
   ]
  },
  {
   "cell_type": "code",
   "execution_count": 117,
   "id": "fd063217",
   "metadata": {},
   "outputs": [
    {
     "name": "stdout",
     "output_type": "stream",
     "text": [
      "La p_values est de 0.0\n",
      "On rejette l'hypothèse nulle, il n'y a pas d'homogénéité des variances entre les catégories de livres\n"
     ]
    }
   ],
   "source": [
    "from scipy.stats import levene\n",
    "\n",
    "f,p = levene(df_anova2[0],df_anova2[1],df_anova2[2])\n",
    "\n",
    "print(\"La p_values est de\",p)\n",
    "if p <0.05:\n",
    "    print(\"On rejette l'hypothèse nulle, il n'y a pas d'homogénéité des variances entre les catégories de livres\")\n",
    "else:\n",
    "    print(\"On accepte l'hypothèse nulle, il y'a homogénéité des variances entre les catégories de livres\")"
   ]
  },
  {
   "cell_type": "markdown",
   "id": "4d18d10b",
   "metadata": {},
   "source": [
    "**Conclusiosn :** La normalité et l'égalité des varaiances ne sont pas vérifées donc on ne peut pas valider le test de ANOVA. Par conséquent un va utiliser un test non paramétrique"
   ]
  },
  {
   "cell_type": "raw",
   "id": "2aa0030b",
   "metadata": {},
   "source": [
    "Test de Kruskall-Wallis\n",
    "\n",
    "  H0: il n'y a pas de différence d'âge médian entre les catégories de livres\n",
    "  H1: l'âge médian diffère pour au moins une catégorie de livres "
   ]
  },
  {
   "cell_type": "code",
   "execution_count": 118,
   "id": "bbe64261",
   "metadata": {},
   "outputs": [
    {
     "name": "stdout",
     "output_type": "stream",
     "text": [
      "La p_values est de 0.0\n",
      "On rejette l'hypothèse nulle, l'âge médian diffère pour au moins une catégorie de livres\n"
     ]
    }
   ],
   "source": [
    "from scipy.stats import kruskal\n",
    "\n",
    "f,p = kruskal(df_anova2[0],df_anova2[1],df_anova2[2])\n",
    "\n",
    "print(\"La p_values est de\",p)\n",
    "if p <0.05:\n",
    "    print(\"On rejette l'hypothèse nulle, l'âge médian diffère pour au moins une catégorie de livres\")\n",
    "else:\n",
    "    print(\"On accepte l'hypothèse nulle, il n'y a pas de différence d'âge médian entre les catégories de livres\")"
   ]
  },
  {
   "cell_type": "code",
   "execution_count": null,
   "id": "2aaede57",
   "metadata": {},
   "outputs": [],
   "source": []
  }
 ],
 "metadata": {
  "kernelspec": {
   "display_name": "Python 3 (ipykernel)",
   "language": "python",
   "name": "python3"
  },
  "language_info": {
   "codemirror_mode": {
    "name": "ipython",
    "version": 3
   },
   "file_extension": ".py",
   "mimetype": "text/x-python",
   "name": "python",
   "nbconvert_exporter": "python",
   "pygments_lexer": "ipython3",
   "version": "3.9.12"
  }
 },
 "nbformat": 4,
 "nbformat_minor": 5
}
